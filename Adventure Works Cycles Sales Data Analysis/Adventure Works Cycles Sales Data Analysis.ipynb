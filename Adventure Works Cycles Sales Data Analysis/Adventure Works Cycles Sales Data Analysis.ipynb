{
 "cells": [
  {
   "cell_type": "markdown",
   "metadata": {},
   "source": [
    "# Adventure Works Cycles Sales Data Analysis"
   ]
  },
  {
   "cell_type": "markdown",
   "metadata": {},
   "source": [
    "Adventure Works Cycles, a large wholesaler of bicycles in the US and Europe, has noticed that their total profits have been declining over the last few months. They have approached me to help them analyzing what are the drivers of this change.\n",
    "\n",
    "The company’s IT department has provided me with the company’s sales data over the last few years. In the absence of any consultation with the business, I will need to examine this data on my own and decide which key elements I will focus on in your analysis."
   ]
  },
  {
   "cell_type": "markdown",
   "metadata": {},
   "source": [
    "### Importing required libraries"
   ]
  },
  {
   "cell_type": "code",
   "execution_count": 1,
   "metadata": {},
   "outputs": [],
   "source": [
    "import urllib.request\n",
    "import tarfile\n",
    "import gzip\n",
    "import shutil\n",
    "\n",
    "import numpy as np\n",
    "import pandas as pd\n",
    "import matplotlib.pyplot as plt\n",
    "%matplotlib inline\n",
    "%config InlineBackend.figure_format = 'png'\n",
    "import seaborn as sns\n",
    "\n",
    "import warnings\n",
    "warnings.filterwarnings('ignore')"
   ]
  },
  {
   "cell_type": "markdown",
   "metadata": {},
   "source": [
    "### Loading data"
   ]
  },
  {
   "cell_type": "code",
   "execution_count": 2,
   "metadata": {},
   "outputs": [],
   "source": [
    "fname = 'adventure_works_purchase_orders.tar.gz'\n",
    "\n",
    "if fname.endswith(\"tar.gz\"):\n",
    "    tar = tarfile.open(fname, \"r:gz\")\n",
    "    tar.extractall()\n",
    "    tar.close()\n",
    "elif fname.endswith(\"tar\"):\n",
    "    tar = tarfile.open(fname, \"r:\")\n",
    "    tar.extractall()\n",
    "    tar.close()"
   ]
  },
  {
   "cell_type": "code",
   "execution_count": 3,
   "metadata": {},
   "outputs": [],
   "source": [
    "# file_url = r'https://github.com/DoodleScheduling/hiring-challenges/blob/2e75e37d32b11e0e5ac735b4b1311d4eeee69ecb/data-analyst/adventure_works_purchase_orders.tar.gz'\n",
    "# fname = 'adventure_works_purchase_orders.tar.gz'"
   ]
  },
  {
   "cell_type": "code",
   "execution_count": 4,
   "metadata": {},
   "outputs": [],
   "source": [
    "# if file_url.endswith(\"tar.gz\"):\n",
    "#     tar = tarfile.open(fname, \"r:gz\")\n",
    "#     tar.extractall()\n",
    "#     tar.close()\n",
    "# elif file_url.endswith(\"tar\"):\n",
    "#     tar = tarfile.open(fname, \"r:\")\n",
    "#     tar.extractall()\n",
    "#     tar.close()"
   ]
  },
  {
   "cell_type": "code",
   "execution_count": 5,
   "metadata": {},
   "outputs": [],
   "source": [
    "# loading dataset and transforming OrderDate into Pandas datetime format\n",
    "df = pd.read_csv('adventure_works_purchase_orders.csv', parse_dates=['OrderDate'], infer_datetime_format=True)"
   ]
  },
  {
   "cell_type": "markdown",
   "metadata": {},
   "source": [
    "### Initial data exploration"
   ]
  },
  {
   "cell_type": "code",
   "execution_count": 6,
   "metadata": {},
   "outputs": [
    {
     "data": {
      "text/html": [
       "<div>\n",
       "<style scoped>\n",
       "    .dataframe tbody tr th:only-of-type {\n",
       "        vertical-align: middle;\n",
       "    }\n",
       "\n",
       "    .dataframe tbody tr th {\n",
       "        vertical-align: top;\n",
       "    }\n",
       "\n",
       "    .dataframe thead th {\n",
       "        text-align: right;\n",
       "    }\n",
       "</style>\n",
       "<table border=\"1\" class=\"dataframe\">\n",
       "  <thead>\n",
       "    <tr style=\"text-align: right;\">\n",
       "      <th></th>\n",
       "      <th>SalesOrderNumber</th>\n",
       "      <th>OrderDate</th>\n",
       "      <th>DueDate</th>\n",
       "      <th>ShipDate</th>\n",
       "      <th>Sales_Person</th>\n",
       "      <th>Sales_Region</th>\n",
       "      <th>Sales_Province</th>\n",
       "      <th>Sales_City</th>\n",
       "      <th>Sales_Postal_Code</th>\n",
       "      <th>Customer_Code</th>\n",
       "      <th>...</th>\n",
       "      <th>LineItem_Id</th>\n",
       "      <th>Product_Category</th>\n",
       "      <th>Product_Sub_Category</th>\n",
       "      <th>Product_Name</th>\n",
       "      <th>Product_Code</th>\n",
       "      <th>Unit_Cost</th>\n",
       "      <th>UnitPrice</th>\n",
       "      <th>UnitPriceDiscount</th>\n",
       "      <th>OrderQty</th>\n",
       "      <th>Unit_Freight_Cost</th>\n",
       "    </tr>\n",
       "  </thead>\n",
       "  <tbody>\n",
       "    <tr>\n",
       "      <th>0</th>\n",
       "      <td>SO43659</td>\n",
       "      <td>2005-07-01</td>\n",
       "      <td>00:00.0</td>\n",
       "      <td>00:00.0</td>\n",
       "      <td>Tsvi Reiter</td>\n",
       "      <td>United States</td>\n",
       "      <td>Tennessee</td>\n",
       "      <td>Memphis</td>\n",
       "      <td>38103</td>\n",
       "      <td>AW00029825</td>\n",
       "      <td>...</td>\n",
       "      <td>1</td>\n",
       "      <td>Bikes</td>\n",
       "      <td>Mountain Bikes</td>\n",
       "      <td>Mountain-100 Black, 42</td>\n",
       "      <td>BK-M82B-42</td>\n",
       "      <td>1898.0944</td>\n",
       "      <td>3374.99</td>\n",
       "      <td>0.0</td>\n",
       "      <td>1</td>\n",
       "      <td>51.3415</td>\n",
       "    </tr>\n",
       "    <tr>\n",
       "      <th>1</th>\n",
       "      <td>SO43659</td>\n",
       "      <td>2005-07-01</td>\n",
       "      <td>00:00.0</td>\n",
       "      <td>00:00.0</td>\n",
       "      <td>Tsvi Reiter</td>\n",
       "      <td>United States</td>\n",
       "      <td>Tennessee</td>\n",
       "      <td>Memphis</td>\n",
       "      <td>38103</td>\n",
       "      <td>AW00029825</td>\n",
       "      <td>...</td>\n",
       "      <td>2</td>\n",
       "      <td>Bikes</td>\n",
       "      <td>Mountain Bikes</td>\n",
       "      <td>Mountain-100 Black, 44</td>\n",
       "      <td>BK-M82B-44</td>\n",
       "      <td>1898.0944</td>\n",
       "      <td>3374.99</td>\n",
       "      <td>0.0</td>\n",
       "      <td>3</td>\n",
       "      <td>51.3415</td>\n",
       "    </tr>\n",
       "    <tr>\n",
       "      <th>2</th>\n",
       "      <td>SO43659</td>\n",
       "      <td>2005-07-01</td>\n",
       "      <td>00:00.0</td>\n",
       "      <td>00:00.0</td>\n",
       "      <td>Tsvi Reiter</td>\n",
       "      <td>United States</td>\n",
       "      <td>Tennessee</td>\n",
       "      <td>Memphis</td>\n",
       "      <td>38103</td>\n",
       "      <td>AW00029825</td>\n",
       "      <td>...</td>\n",
       "      <td>3</td>\n",
       "      <td>Bikes</td>\n",
       "      <td>Mountain Bikes</td>\n",
       "      <td>Mountain-100 Black, 48</td>\n",
       "      <td>BK-M82B-48</td>\n",
       "      <td>1898.0944</td>\n",
       "      <td>3374.99</td>\n",
       "      <td>0.0</td>\n",
       "      <td>1</td>\n",
       "      <td>51.3415</td>\n",
       "    </tr>\n",
       "    <tr>\n",
       "      <th>3</th>\n",
       "      <td>SO43659</td>\n",
       "      <td>2005-07-01</td>\n",
       "      <td>00:00.0</td>\n",
       "      <td>00:00.0</td>\n",
       "      <td>Tsvi Reiter</td>\n",
       "      <td>United States</td>\n",
       "      <td>Tennessee</td>\n",
       "      <td>Memphis</td>\n",
       "      <td>38103</td>\n",
       "      <td>AW00029825</td>\n",
       "      <td>...</td>\n",
       "      <td>4</td>\n",
       "      <td>Bikes</td>\n",
       "      <td>Mountain Bikes</td>\n",
       "      <td>Mountain-100 Silver, 38</td>\n",
       "      <td>BK-M82S-38</td>\n",
       "      <td>1912.1544</td>\n",
       "      <td>3399.99</td>\n",
       "      <td>0.0</td>\n",
       "      <td>1</td>\n",
       "      <td>51.3415</td>\n",
       "    </tr>\n",
       "    <tr>\n",
       "      <th>4</th>\n",
       "      <td>SO43659</td>\n",
       "      <td>2005-07-01</td>\n",
       "      <td>00:00.0</td>\n",
       "      <td>00:00.0</td>\n",
       "      <td>Tsvi Reiter</td>\n",
       "      <td>United States</td>\n",
       "      <td>Tennessee</td>\n",
       "      <td>Memphis</td>\n",
       "      <td>38103</td>\n",
       "      <td>AW00029825</td>\n",
       "      <td>...</td>\n",
       "      <td>5</td>\n",
       "      <td>Bikes</td>\n",
       "      <td>Mountain Bikes</td>\n",
       "      <td>Mountain-100 Silver, 42</td>\n",
       "      <td>BK-M82S-42</td>\n",
       "      <td>1912.1544</td>\n",
       "      <td>3399.99</td>\n",
       "      <td>0.0</td>\n",
       "      <td>1</td>\n",
       "      <td>51.3415</td>\n",
       "    </tr>\n",
       "  </tbody>\n",
       "</table>\n",
       "<p>5 rows × 25 columns</p>\n",
       "</div>"
      ],
      "text/plain": [
       "  SalesOrderNumber  OrderDate  DueDate ShipDate Sales_Person   Sales_Region  \\\n",
       "0          SO43659 2005-07-01  00:00.0  00:00.0  Tsvi Reiter  United States   \n",
       "1          SO43659 2005-07-01  00:00.0  00:00.0  Tsvi Reiter  United States   \n",
       "2          SO43659 2005-07-01  00:00.0  00:00.0  Tsvi Reiter  United States   \n",
       "3          SO43659 2005-07-01  00:00.0  00:00.0  Tsvi Reiter  United States   \n",
       "4          SO43659 2005-07-01  00:00.0  00:00.0  Tsvi Reiter  United States   \n",
       "\n",
       "  Sales_Province Sales_City  Sales_Postal_Code Customer_Code  ... LineItem_Id  \\\n",
       "0      Tennessee    Memphis              38103    AW00029825  ...           1   \n",
       "1      Tennessee    Memphis              38103    AW00029825  ...           2   \n",
       "2      Tennessee    Memphis              38103    AW00029825  ...           3   \n",
       "3      Tennessee    Memphis              38103    AW00029825  ...           4   \n",
       "4      Tennessee    Memphis              38103    AW00029825  ...           5   \n",
       "\n",
       "  Product_Category Product_Sub_Category             Product_Name Product_Code  \\\n",
       "0            Bikes       Mountain Bikes   Mountain-100 Black, 42   BK-M82B-42   \n",
       "1            Bikes       Mountain Bikes   Mountain-100 Black, 44   BK-M82B-44   \n",
       "2            Bikes       Mountain Bikes   Mountain-100 Black, 48   BK-M82B-48   \n",
       "3            Bikes       Mountain Bikes  Mountain-100 Silver, 38   BK-M82S-38   \n",
       "4            Bikes       Mountain Bikes  Mountain-100 Silver, 42   BK-M82S-42   \n",
       "\n",
       "   Unit_Cost UnitPrice UnitPriceDiscount OrderQty Unit_Freight_Cost  \n",
       "0  1898.0944   3374.99               0.0        1           51.3415  \n",
       "1  1898.0944   3374.99               0.0        3           51.3415  \n",
       "2  1898.0944   3374.99               0.0        1           51.3415  \n",
       "3  1912.1544   3399.99               0.0        1           51.3415  \n",
       "4  1912.1544   3399.99               0.0        1           51.3415  \n",
       "\n",
       "[5 rows x 25 columns]"
      ]
     },
     "execution_count": 6,
     "metadata": {},
     "output_type": "execute_result"
    }
   ],
   "source": [
    "df.head()"
   ]
  },
  {
   "cell_type": "code",
   "execution_count": 7,
   "metadata": {},
   "outputs": [
    {
     "data": {
      "text/html": [
       "<div>\n",
       "<style scoped>\n",
       "    .dataframe tbody tr th:only-of-type {\n",
       "        vertical-align: middle;\n",
       "    }\n",
       "\n",
       "    .dataframe tbody tr th {\n",
       "        vertical-align: top;\n",
       "    }\n",
       "\n",
       "    .dataframe thead th {\n",
       "        text-align: right;\n",
       "    }\n",
       "</style>\n",
       "<table border=\"1\" class=\"dataframe\">\n",
       "  <thead>\n",
       "    <tr style=\"text-align: right;\">\n",
       "      <th></th>\n",
       "      <th>SalesOrderNumber</th>\n",
       "      <th>OrderDate</th>\n",
       "      <th>DueDate</th>\n",
       "      <th>ShipDate</th>\n",
       "      <th>Sales_Person</th>\n",
       "      <th>Sales_Region</th>\n",
       "      <th>Sales_Province</th>\n",
       "      <th>Sales_City</th>\n",
       "      <th>Sales_Postal_Code</th>\n",
       "      <th>Customer_Code</th>\n",
       "      <th>...</th>\n",
       "      <th>LineItem_Id</th>\n",
       "      <th>Product_Category</th>\n",
       "      <th>Product_Sub_Category</th>\n",
       "      <th>Product_Name</th>\n",
       "      <th>Product_Code</th>\n",
       "      <th>Unit_Cost</th>\n",
       "      <th>UnitPrice</th>\n",
       "      <th>UnitPriceDiscount</th>\n",
       "      <th>OrderQty</th>\n",
       "      <th>Unit_Freight_Cost</th>\n",
       "    </tr>\n",
       "  </thead>\n",
       "  <tbody>\n",
       "    <tr>\n",
       "      <th>41881</th>\n",
       "      <td>SO71952</td>\n",
       "      <td>2008-06-01</td>\n",
       "      <td>00:00.0</td>\n",
       "      <td>00:00.0</td>\n",
       "      <td>Michael Blythe</td>\n",
       "      <td>United States</td>\n",
       "      <td>Michigan</td>\n",
       "      <td>Detroit</td>\n",
       "      <td>48226</td>\n",
       "      <td>AW00030046</td>\n",
       "      <td>...</td>\n",
       "      <td>113561</td>\n",
       "      <td>Components</td>\n",
       "      <td>Mountain Frames</td>\n",
       "      <td>HL Mountain Frame - Silver, 46</td>\n",
       "      <td>FR-M94S-46</td>\n",
       "      <td>934.000250</td>\n",
       "      <td>1364.50</td>\n",
       "      <td>0.0</td>\n",
       "      <td>4</td>\n",
       "      <td>50.0991</td>\n",
       "    </tr>\n",
       "    <tr>\n",
       "      <th>41882</th>\n",
       "      <td>SO71952</td>\n",
       "      <td>2008-06-01</td>\n",
       "      <td>00:00.0</td>\n",
       "      <td>00:00.0</td>\n",
       "      <td>Michael Blythe</td>\n",
       "      <td>United States</td>\n",
       "      <td>Michigan</td>\n",
       "      <td>Detroit</td>\n",
       "      <td>48226</td>\n",
       "      <td>AW00030046</td>\n",
       "      <td>...</td>\n",
       "      <td>113562</td>\n",
       "      <td>Components</td>\n",
       "      <td>Bottom Brackets</td>\n",
       "      <td>LL Bottom Bracket</td>\n",
       "      <td>BB-7421</td>\n",
       "      <td>29.964500</td>\n",
       "      <td>53.99</td>\n",
       "      <td>0.0</td>\n",
       "      <td>3</td>\n",
       "      <td>50.0991</td>\n",
       "    </tr>\n",
       "    <tr>\n",
       "      <th>41883</th>\n",
       "      <td>SO71952</td>\n",
       "      <td>2008-06-01</td>\n",
       "      <td>00:00.0</td>\n",
       "      <td>00:00.0</td>\n",
       "      <td>Michael Blythe</td>\n",
       "      <td>United States</td>\n",
       "      <td>Michigan</td>\n",
       "      <td>Detroit</td>\n",
       "      <td>48226</td>\n",
       "      <td>AW00030046</td>\n",
       "      <td>...</td>\n",
       "      <td>113563</td>\n",
       "      <td>Bikes</td>\n",
       "      <td>Mountain Bikes</td>\n",
       "      <td>Mountain-500 Silver, 42</td>\n",
       "      <td>BK-M18S-42</td>\n",
       "      <td>385.272375</td>\n",
       "      <td>564.99</td>\n",
       "      <td>0.4</td>\n",
       "      <td>3</td>\n",
       "      <td>50.0991</td>\n",
       "    </tr>\n",
       "  </tbody>\n",
       "</table>\n",
       "<p>3 rows × 25 columns</p>\n",
       "</div>"
      ],
      "text/plain": [
       "      SalesOrderNumber  OrderDate  DueDate ShipDate    Sales_Person  \\\n",
       "41881          SO71952 2008-06-01  00:00.0  00:00.0  Michael Blythe   \n",
       "41882          SO71952 2008-06-01  00:00.0  00:00.0  Michael Blythe   \n",
       "41883          SO71952 2008-06-01  00:00.0  00:00.0  Michael Blythe   \n",
       "\n",
       "        Sales_Region Sales_Province Sales_City  Sales_Postal_Code  \\\n",
       "41881  United States       Michigan    Detroit              48226   \n",
       "41882  United States       Michigan    Detroit              48226   \n",
       "41883  United States       Michigan    Detroit              48226   \n",
       "\n",
       "      Customer_Code  ... LineItem_Id Product_Category Product_Sub_Category  \\\n",
       "41881    AW00030046  ...      113561       Components      Mountain Frames   \n",
       "41882    AW00030046  ...      113562       Components      Bottom Brackets   \n",
       "41883    AW00030046  ...      113563            Bikes       Mountain Bikes   \n",
       "\n",
       "                         Product_Name Product_Code   Unit_Cost UnitPrice  \\\n",
       "41881  HL Mountain Frame - Silver, 46   FR-M94S-46  934.000250   1364.50   \n",
       "41882               LL Bottom Bracket      BB-7421   29.964500     53.99   \n",
       "41883         Mountain-500 Silver, 42   BK-M18S-42  385.272375    564.99   \n",
       "\n",
       "      UnitPriceDiscount OrderQty Unit_Freight_Cost  \n",
       "41881               0.0        4           50.0991  \n",
       "41882               0.0        3           50.0991  \n",
       "41883               0.4        3           50.0991  \n",
       "\n",
       "[3 rows x 25 columns]"
      ]
     },
     "execution_count": 7,
     "metadata": {},
     "output_type": "execute_result"
    }
   ],
   "source": [
    "df.tail(3)"
   ]
  },
  {
   "cell_type": "code",
   "execution_count": 8,
   "metadata": {},
   "outputs": [
    {
     "data": {
      "text/plain": [
       "(41884, 25)"
      ]
     },
     "execution_count": 8,
     "metadata": {},
     "output_type": "execute_result"
    }
   ],
   "source": [
    "df.shape"
   ]
  },
  {
   "cell_type": "markdown",
   "metadata": {},
   "source": [
    "We've got 41884 entries in our dataset and 25 variables."
   ]
  },
  {
   "cell_type": "code",
   "execution_count": 9,
   "metadata": {},
   "outputs": [
    {
     "name": "stdout",
     "output_type": "stream",
     "text": [
      "2005-07-01 00:00:00\n",
      "2008-06-01 00:00:00\n"
     ]
    }
   ],
   "source": [
    "print(df['OrderDate'].min())\n",
    "print(df['OrderDate'].max())"
   ]
  },
  {
   "cell_type": "code",
   "execution_count": 10,
   "metadata": {},
   "outputs": [
    {
     "name": "stdout",
     "output_type": "stream",
     "text": [
      "<class 'pandas.core.frame.DataFrame'>\n",
      "RangeIndex: 41884 entries, 0 to 41883\n",
      "Data columns (total 25 columns):\n",
      " #   Column                Non-Null Count  Dtype         \n",
      "---  ------                --------------  -----         \n",
      " 0   SalesOrderNumber      41884 non-null  object        \n",
      " 1   OrderDate             41884 non-null  datetime64[ns]\n",
      " 2   DueDate               41884 non-null  object        \n",
      " 3   ShipDate              41884 non-null  object        \n",
      " 4   Sales_Person          41884 non-null  object        \n",
      " 5   Sales_Region          41884 non-null  object        \n",
      " 6   Sales_Province        41884 non-null  object        \n",
      " 7   Sales_City            41884 non-null  object        \n",
      " 8   Sales_Postal_Code     41884 non-null  int64         \n",
      " 9   Customer_Code         41884 non-null  object        \n",
      " 10  Customer_Name         41884 non-null  object        \n",
      " 11  Customer_Region       41884 non-null  object        \n",
      " 12  Customer_Province     41884 non-null  object        \n",
      " 13  Customer_City         41884 non-null  object        \n",
      " 14  Customer_Postal_Code  41884 non-null  object        \n",
      " 15  LineItem_Id           41884 non-null  int64         \n",
      " 16  Product_Category      41884 non-null  object        \n",
      " 17  Product_Sub_Category  41884 non-null  object        \n",
      " 18  Product_Name          41884 non-null  object        \n",
      " 19  Product_Code          41884 non-null  object        \n",
      " 20  Unit_Cost             41884 non-null  float64       \n",
      " 21  UnitPrice             41884 non-null  float64       \n",
      " 22  UnitPriceDiscount     41884 non-null  float64       \n",
      " 23  OrderQty              41884 non-null  int64         \n",
      " 24  Unit_Freight_Cost     41884 non-null  float64       \n",
      "dtypes: datetime64[ns](1), float64(4), int64(3), object(17)\n",
      "memory usage: 8.0+ MB\n"
     ]
    }
   ],
   "source": [
    "df.info()"
   ]
  },
  {
   "cell_type": "markdown",
   "metadata": {},
   "source": [
    "It looks like we have daily sales data for three years from July 2005 till June 2008.\n",
    "\n",
    "There are no missing values in the dataset. Most of the variables are categorical. There are several variables, which we won't need for our analysis: SalesOrderNumber, LineItem_Id, Sales_Postal_Code, Customer_Postal_Code, OrderDate, DueDate. We will get rid of them later on."
   ]
  },
  {
   "cell_type": "markdown",
   "metadata": {},
   "source": [
    "Let's now check specific variables."
   ]
  },
  {
   "cell_type": "code",
   "execution_count": 11,
   "metadata": {},
   "outputs": [
    {
     "name": "stdout",
     "output_type": "stream",
     "text": [
      "00:00.0    41884\n",
      "Name: DueDate, dtype: int64\n",
      "00:00.0    41884\n",
      "Name: ShipDate, dtype: int64\n"
     ]
    }
   ],
   "source": [
    "print(df['DueDate'].value_counts())\n",
    "print(df['ShipDate'].value_counts())"
   ]
  },
  {
   "cell_type": "markdown",
   "metadata": {},
   "source": [
    "Variables DueDate & ShipDate do not change throughout the whole dataset, so as already mentioned we can drop them."
   ]
  },
  {
   "cell_type": "code",
   "execution_count": 12,
   "metadata": {},
   "outputs": [
    {
     "data": {
      "text/plain": [
       "Jillian Carson              7825\n",
       "Linda Mitchell              7107\n",
       "Michael Blythe              7069\n",
       "Tsvi Reiter                 5417\n",
       "Shu Ito                     4545\n",
       "Ranjit Varkey Chudukatil    2977\n",
       "David Campbell              2247\n",
       "Pamela Ansman-Wolfe         2064\n",
       "Tete Mensa-Annan            1893\n",
       "Stephen Jiang                642\n",
       "Amy Alberts                   97\n",
       "Rachel Valdez                  1\n",
       "Name: Sales_Person, dtype: int64"
      ]
     },
     "execution_count": 12,
     "metadata": {},
     "output_type": "execute_result"
    }
   ],
   "source": [
    "df['Sales_Person'].value_counts()"
   ]
  },
  {
   "cell_type": "markdown",
   "metadata": {},
   "source": [
    "There are a dozen of sales managers in the dataset."
   ]
  },
  {
   "cell_type": "code",
   "execution_count": 13,
   "metadata": {},
   "outputs": [
    {
     "data": {
      "text/plain": [
       "United States    0.929\n",
       "France           0.071\n",
       "Germany          0.000\n",
       "Name: Sales_Region, dtype: float64"
      ]
     },
     "execution_count": 13,
     "metadata": {},
     "output_type": "execute_result"
    }
   ],
   "source": [
    "df['Sales_Region'].value_counts(normalize=True).round(3)"
   ]
  },
  {
   "cell_type": "markdown",
   "metadata": {},
   "source": [
    "There are three regions in our dataset, from which items are sold: USA, France & Germany where only one sale has occured. 93% of items are sold form the USA."
   ]
  },
  {
   "cell_type": "code",
   "execution_count": 14,
   "metadata": {},
   "outputs": [
    {
     "data": {
      "text/plain": [
       "Minnesota        7825\n",
       "Utah             7107\n",
       "Michigan         7069\n",
       "Tennessee        5417\n",
       "California       4545\n",
       "Washington       2986\n",
       "Gironde          2977\n",
       "Oregon           2064\n",
       "Massachusetts    1893\n",
       "Hamburg             1\n",
       "Name: Sales_Province, dtype: int64"
      ]
     },
     "execution_count": 14,
     "metadata": {},
     "output_type": "execute_result"
    }
   ],
   "source": [
    "df['Sales_Province'].value_counts()"
   ]
  },
  {
   "cell_type": "markdown",
   "metadata": {},
   "source": [
    "As for sales provinces, there are ten of them."
   ]
  },
  {
   "cell_type": "code",
   "execution_count": 15,
   "metadata": {},
   "outputs": [
    {
     "data": {
      "text/plain": [
       "Duluth           7825\n",
       "Nevada           7107\n",
       "Detroit          7069\n",
       "Memphis          5417\n",
       "San Francisco    4545\n",
       "Bordeaux         2977\n",
       "Bellevue         2247\n",
       "Portland         2064\n",
       "Cambridge        1893\n",
       "Redmond           642\n",
       "Renton             97\n",
       "Berlin              1\n",
       "Name: Sales_City, dtype: int64"
      ]
     },
     "execution_count": 15,
     "metadata": {},
     "output_type": "execute_result"
    }
   ],
   "source": [
    "df['Sales_City'].value_counts()"
   ]
  },
  {
   "cell_type": "markdown",
   "metadata": {},
   "source": [
    "In our dataset, there are only ten cities where the company ship its products from. It is confusing that the only German province from where a single item was sold changed from the federal city of Hamburg to Berlin in the Sales_City variable. This is apparantly a mistake in our data."
   ]
  },
  {
   "cell_type": "code",
   "execution_count": 16,
   "metadata": {},
   "outputs": [
    {
     "data": {
      "text/plain": [
       "420"
      ]
     },
     "execution_count": 16,
     "metadata": {},
     "output_type": "execute_result"
    }
   ],
   "source": [
    "df['Customer_Name'].nunique()"
   ]
  },
  {
   "cell_type": "code",
   "execution_count": 17,
   "metadata": {},
   "outputs": [
    {
     "data": {
      "text/plain": [
       "Larger Cycle Shop                482\n",
       "Registered Cycle Store           440\n",
       "Totes & Baskets Company          436\n",
       "Bike Dealers Association         432\n",
       "Farthermost Bike Shop            422\n",
       "Real Sporting Goods              418\n",
       "Metropolitan Equipment           405\n",
       "Fashionable Department Stores    401\n",
       "Eastside Department Store        401\n",
       "Advanced Bike Components         394\n",
       "Name: Customer_Name, dtype: int64"
      ]
     },
     "execution_count": 17,
     "metadata": {},
     "output_type": "execute_result"
    }
   ],
   "source": [
    "df['Customer_Name'].value_counts()[:10]"
   ]
  },
  {
   "cell_type": "markdown",
   "metadata": {},
   "source": [
    "There are 420 unique cusomers in dataset. The company apparently operates in B2B sector."
   ]
  },
  {
   "cell_type": "code",
   "execution_count": 18,
   "metadata": {},
   "outputs": [
    {
     "data": {
      "text/plain": [
       "47"
      ]
     },
     "execution_count": 18,
     "metadata": {},
     "output_type": "execute_result"
    }
   ],
   "source": [
    "df['Customer_Province'].nunique()"
   ]
  },
  {
   "cell_type": "code",
   "execution_count": 19,
   "metadata": {},
   "outputs": [
    {
     "data": {
      "text/plain": [
       "California             6920\n",
       "Texas                  4785\n",
       "Washington             4574\n",
       "Florida                1851\n",
       "Colorado               1673\n",
       "Michigan               1389\n",
       "New York               1370\n",
       "Missouri               1284\n",
       "New Hampshire          1264\n",
       "Tennessee              1212\n",
       "Arizona                1151\n",
       "Oregon                 1134\n",
       "Utah                    914\n",
       "Connecticut             913\n",
       "Seine (Paris)           912\n",
       "Indiana                 905\n",
       "Georgia                 862\n",
       "Ohio                    820\n",
       "North Carolina          806\n",
       "Nevada                  656\n",
       "Loiret                  628\n",
       "New Mexico              523\n",
       "Minnesota               505\n",
       "Illinois                470\n",
       "Virginia                460\n",
       "Loir et Cher            406\n",
       "Wyoming                 385\n",
       "Maine                   385\n",
       "Wisconsin               372\n",
       "Mississippi             344\n",
       "Val d'Oise              264\n",
       "Hauts de Seine          240\n",
       "Kentucky                211\n",
       "Idaho                   170\n",
       "Essonne                 152\n",
       "Seine Saint Denis       150\n",
       "South Carolina          150\n",
       "Massachusetts           134\n",
       "Garonne (Haute)         123\n",
       "South Dakota            119\n",
       "Pas de Calais            78\n",
       "Nord                     67\n",
       "Seine et Marne           54\n",
       "Alabama                  41\n",
       "Montana                  39\n",
       "Rhode Island             18\n",
       "Nordrhein-Westfalen       1\n",
       "Name: Customer_Province, dtype: int64"
      ]
     },
     "execution_count": 19,
     "metadata": {},
     "output_type": "execute_result"
    }
   ],
   "source": [
    "df['Customer_Province'].value_counts()"
   ]
  },
  {
   "cell_type": "markdown",
   "metadata": {},
   "source": [
    "There are 47 provinces where the company ship it products to. Customers from California order items most frequantly."
   ]
  },
  {
   "cell_type": "code",
   "execution_count": 20,
   "metadata": {},
   "outputs": [
    {
     "data": {
      "text/plain": [
       "Bikes          17518\n",
       "Components     13018\n",
       "Clothing        8091\n",
       "Accessories     3257\n",
       "Name: Product_Category, dtype: int64"
      ]
     },
     "execution_count": 20,
     "metadata": {},
     "output_type": "execute_result"
    }
   ],
   "source": [
    "df['Product_Category'].value_counts()"
   ]
  },
  {
   "cell_type": "markdown",
   "metadata": {},
   "source": [
    "All products are organized into four categories: Bikes, Components, Clothing & Accessories. Items from categories Bikes & Components are sold most frequantly."
   ]
  },
  {
   "cell_type": "code",
   "execution_count": 21,
   "metadata": {},
   "outputs": [
    {
     "data": {
      "text/plain": [
       "33"
      ]
     },
     "execution_count": 21,
     "metadata": {},
     "output_type": "execute_result"
    }
   ],
   "source": [
    "df['Product_Sub_Category'].nunique()"
   ]
  },
  {
   "cell_type": "markdown",
   "metadata": {},
   "source": [
    "We are dealing with 33 product sub-categories."
   ]
  },
  {
   "cell_type": "code",
   "execution_count": 22,
   "metadata": {},
   "outputs": [
    {
     "data": {
      "text/plain": [
       "249"
      ]
     },
     "execution_count": 22,
     "metadata": {},
     "output_type": "execute_result"
    }
   ],
   "source": [
    "df['Product_Name'].nunique()"
   ]
  },
  {
   "cell_type": "markdown",
   "metadata": {},
   "source": [
    "...and 249 unique items that the company sells.\n",
    "\n",
    "We will take a closer look at our numerical variables later on. Let's proceed to data cleaning."
   ]
  },
  {
   "cell_type": "markdown",
   "metadata": {},
   "source": [
    "### Data cleansing"
   ]
  },
  {
   "cell_type": "markdown",
   "metadata": {},
   "source": [
    "First of all, lets drop columns which are unnecessary for the analysis."
   ]
  },
  {
   "cell_type": "code",
   "execution_count": 23,
   "metadata": {},
   "outputs": [
    {
     "name": "stdout",
     "output_type": "stream",
     "text": [
      "Index(['OrderDate', 'Sales_Person', 'Sales_Region', 'Sales_Province',\n",
      "       'Sales_City', 'Customer_Name', 'Customer_Region', 'Customer_Province',\n",
      "       'Customer_City', 'Product_Category', 'Product_Sub_Category',\n",
      "       'Product_Name', 'Unit_Cost', 'UnitPrice', 'UnitPriceDiscount',\n",
      "       'OrderQty', 'Unit_Freight_Cost'],\n",
      "      dtype='object')\n"
     ]
    }
   ],
   "source": [
    "cols_to_drop = ['SalesOrderNumber', 'DueDate', 'ShipDate', 'Sales_Postal_Code', 'Customer_Code',\n",
    "                'Customer_Postal_Code', 'LineItem_Id', 'Product_Code']\n",
    "\n",
    "df.drop(cols_to_drop, 1, inplace=True)\n",
    "print(df.columns)"
   ]
  },
  {
   "cell_type": "markdown",
   "metadata": {},
   "source": [
    "Next, we will make column names more consistent."
   ]
  },
  {
   "cell_type": "code",
   "execution_count": 24,
   "metadata": {},
   "outputs": [
    {
     "name": "stdout",
     "output_type": "stream",
     "text": [
      "Index(['OrderDate', 'SalesPerson', 'SalesRegion', 'SalesProvince', 'SalesCity',\n",
      "       'CustomerName', 'CustomerRegion', 'CustomerProvince', 'CustomerCity',\n",
      "       'ProductCategory', 'ProductSubCategory', 'ProductName', 'UnitCost',\n",
      "       'UnitPrice', 'UnitPriceDiscount', 'OrderQty', 'UnitFreightCost'],\n",
      "      dtype='object')\n"
     ]
    }
   ],
   "source": [
    "new_col_names = []\n",
    "for col in df.columns.to_list():\n",
    "    new_col_names.append(col.replace('_', ''))\n",
    "    \n",
    "df.columns = new_col_names\n",
    "print(df.columns)"
   ]
  },
  {
   "cell_type": "markdown",
   "metadata": {},
   "source": [
    "Much better!\n",
    "\n",
    "As already mentioned, there are no NaN-values in our dataset. Let's now check for duplicates."
   ]
  },
  {
   "cell_type": "code",
   "execution_count": 25,
   "metadata": {},
   "outputs": [
    {
     "data": {
      "text/plain": [
       "0"
      ]
     },
     "execution_count": 25,
     "metadata": {},
     "output_type": "execute_result"
    }
   ],
   "source": [
    "df.isna().sum().sum()"
   ]
  },
  {
   "cell_type": "code",
   "execution_count": 26,
   "metadata": {},
   "outputs": [
    {
     "data": {
      "text/plain": [
       "0"
      ]
     },
     "execution_count": 26,
     "metadata": {},
     "output_type": "execute_result"
    }
   ],
   "source": [
    "df.duplicated().sum()"
   ]
  },
  {
   "cell_type": "markdown",
   "metadata": {},
   "source": [
    "There are no duplicated rows in our dataset."
   ]
  },
  {
   "cell_type": "markdown",
   "metadata": {},
   "source": [
    "### Data augmentation"
   ]
  },
  {
   "cell_type": "markdown",
   "metadata": {},
   "source": [
    "We can soon proceed to data analysis, but first let's add a few variables that could come in handy later on."
   ]
  },
  {
   "cell_type": "code",
   "execution_count": 27,
   "metadata": {},
   "outputs": [],
   "source": [
    "df['OrderCost'] = df.UnitCost*df.OrderQty\n",
    "df['OrderTotalCost'] = df.UnitCost*df.OrderQty + df.UnitFreightCost\n",
    "df['OrderProfit'] = (df.UnitPrice - df.UnitPrice*df.UnitPriceDiscount - df.UnitCost) * df.OrderQty - df.UnitFreightCost\n",
    "df['UnitSales'] = (df.UnitPrice - df.UnitPrice*df.UnitPriceDiscount) * df.OrderQty"
   ]
  },
  {
   "cell_type": "code",
   "execution_count": 28,
   "metadata": {},
   "outputs": [],
   "source": [
    "seasons = {1: 'Winter', 2: 'Winter', 3: 'Spring', 4: 'Spring', 5: 'Spring', 6: 'Summer', 7: 'Summer',\n",
    "           8: 'Summer', 9: 'Fall', 10: 'Fall', 11: 'Fall', 12: 'Winter'}"
   ]
  },
  {
   "cell_type": "code",
   "execution_count": 29,
   "metadata": {},
   "outputs": [],
   "source": [
    "df['OrderWeekday'] = df['OrderDate'].dt.weekday\n",
    "df['OrderMonth'] = df['OrderDate'].dt.month\n",
    "df['OrderYearMonth'] = df['OrderDate'].apply(lambda x: x.strftime('%Y-%m'))\n",
    "df['OrderSeason'] = df['OrderMonth'].map(lambda x: seasons.get(x,x))\n",
    "df['OrderQuarter'] = df['OrderDate'].dt.quarter\n",
    "df['OrderYear'] = df['OrderDate'].dt.year"
   ]
  },
  {
   "cell_type": "code",
   "execution_count": 30,
   "metadata": {},
   "outputs": [
    {
     "data": {
      "text/html": [
       "<div>\n",
       "<style scoped>\n",
       "    .dataframe tbody tr th:only-of-type {\n",
       "        vertical-align: middle;\n",
       "    }\n",
       "\n",
       "    .dataframe tbody tr th {\n",
       "        vertical-align: top;\n",
       "    }\n",
       "\n",
       "    .dataframe thead th {\n",
       "        text-align: right;\n",
       "    }\n",
       "</style>\n",
       "<table border=\"1\" class=\"dataframe\">\n",
       "  <thead>\n",
       "    <tr style=\"text-align: right;\">\n",
       "      <th></th>\n",
       "      <th>UnitPriceDiscount</th>\n",
       "      <th>OrderQty</th>\n",
       "      <th>UnitFreightCost</th>\n",
       "      <th>OrderCost</th>\n",
       "      <th>OrderTotalCost</th>\n",
       "      <th>OrderProfit</th>\n",
       "      <th>UnitSales</th>\n",
       "      <th>OrderWeekday</th>\n",
       "      <th>OrderMonth</th>\n",
       "      <th>OrderYearMonth</th>\n",
       "      <th>OrderSeason</th>\n",
       "      <th>OrderQuarter</th>\n",
       "      <th>OrderYear</th>\n",
       "    </tr>\n",
       "  </thead>\n",
       "  <tbody>\n",
       "    <tr>\n",
       "      <th>0</th>\n",
       "      <td>0.0</td>\n",
       "      <td>1</td>\n",
       "      <td>51.3</td>\n",
       "      <td>1898.1</td>\n",
       "      <td>1949.4</td>\n",
       "      <td>1425.6</td>\n",
       "      <td>3375.0</td>\n",
       "      <td>4</td>\n",
       "      <td>7</td>\n",
       "      <td>2005-07</td>\n",
       "      <td>Summer</td>\n",
       "      <td>3</td>\n",
       "      <td>2005</td>\n",
       "    </tr>\n",
       "    <tr>\n",
       "      <th>1</th>\n",
       "      <td>0.0</td>\n",
       "      <td>3</td>\n",
       "      <td>51.3</td>\n",
       "      <td>5694.3</td>\n",
       "      <td>5745.6</td>\n",
       "      <td>4379.3</td>\n",
       "      <td>10125.0</td>\n",
       "      <td>4</td>\n",
       "      <td>7</td>\n",
       "      <td>2005-07</td>\n",
       "      <td>Summer</td>\n",
       "      <td>3</td>\n",
       "      <td>2005</td>\n",
       "    </tr>\n",
       "    <tr>\n",
       "      <th>2</th>\n",
       "      <td>0.0</td>\n",
       "      <td>1</td>\n",
       "      <td>51.3</td>\n",
       "      <td>1898.1</td>\n",
       "      <td>1949.4</td>\n",
       "      <td>1425.6</td>\n",
       "      <td>3375.0</td>\n",
       "      <td>4</td>\n",
       "      <td>7</td>\n",
       "      <td>2005-07</td>\n",
       "      <td>Summer</td>\n",
       "      <td>3</td>\n",
       "      <td>2005</td>\n",
       "    </tr>\n",
       "    <tr>\n",
       "      <th>3</th>\n",
       "      <td>0.0</td>\n",
       "      <td>1</td>\n",
       "      <td>51.3</td>\n",
       "      <td>1912.2</td>\n",
       "      <td>1963.5</td>\n",
       "      <td>1436.5</td>\n",
       "      <td>3400.0</td>\n",
       "      <td>4</td>\n",
       "      <td>7</td>\n",
       "      <td>2005-07</td>\n",
       "      <td>Summer</td>\n",
       "      <td>3</td>\n",
       "      <td>2005</td>\n",
       "    </tr>\n",
       "    <tr>\n",
       "      <th>4</th>\n",
       "      <td>0.0</td>\n",
       "      <td>1</td>\n",
       "      <td>51.3</td>\n",
       "      <td>1912.2</td>\n",
       "      <td>1963.5</td>\n",
       "      <td>1436.5</td>\n",
       "      <td>3400.0</td>\n",
       "      <td>4</td>\n",
       "      <td>7</td>\n",
       "      <td>2005-07</td>\n",
       "      <td>Summer</td>\n",
       "      <td>3</td>\n",
       "      <td>2005</td>\n",
       "    </tr>\n",
       "    <tr>\n",
       "      <th>5</th>\n",
       "      <td>0.0</td>\n",
       "      <td>2</td>\n",
       "      <td>51.3</td>\n",
       "      <td>3824.3</td>\n",
       "      <td>3875.7</td>\n",
       "      <td>2924.3</td>\n",
       "      <td>6800.0</td>\n",
       "      <td>4</td>\n",
       "      <td>7</td>\n",
       "      <td>2005-07</td>\n",
       "      <td>Summer</td>\n",
       "      <td>3</td>\n",
       "      <td>2005</td>\n",
       "    </tr>\n",
       "    <tr>\n",
       "      <th>6</th>\n",
       "      <td>0.0</td>\n",
       "      <td>1</td>\n",
       "      <td>51.3</td>\n",
       "      <td>1912.2</td>\n",
       "      <td>1963.5</td>\n",
       "      <td>1436.5</td>\n",
       "      <td>3400.0</td>\n",
       "      <td>4</td>\n",
       "      <td>7</td>\n",
       "      <td>2005-07</td>\n",
       "      <td>Summer</td>\n",
       "      <td>3</td>\n",
       "      <td>2005</td>\n",
       "    </tr>\n",
       "    <tr>\n",
       "      <th>7</th>\n",
       "      <td>0.0</td>\n",
       "      <td>3</td>\n",
       "      <td>51.3</td>\n",
       "      <td>115.5</td>\n",
       "      <td>166.8</td>\n",
       "      <td>-16.8</td>\n",
       "      <td>150.0</td>\n",
       "      <td>4</td>\n",
       "      <td>7</td>\n",
       "      <td>2005-07</td>\n",
       "      <td>Summer</td>\n",
       "      <td>3</td>\n",
       "      <td>2005</td>\n",
       "    </tr>\n",
       "    <tr>\n",
       "      <th>8</th>\n",
       "      <td>0.0</td>\n",
       "      <td>1</td>\n",
       "      <td>51.3</td>\n",
       "      <td>38.5</td>\n",
       "      <td>89.8</td>\n",
       "      <td>-39.8</td>\n",
       "      <td>50.0</td>\n",
       "      <td>4</td>\n",
       "      <td>7</td>\n",
       "      <td>2005-07</td>\n",
       "      <td>Summer</td>\n",
       "      <td>3</td>\n",
       "      <td>2005</td>\n",
       "    </tr>\n",
       "    <tr>\n",
       "      <th>9</th>\n",
       "      <td>0.0</td>\n",
       "      <td>6</td>\n",
       "      <td>51.3</td>\n",
       "      <td>20.4</td>\n",
       "      <td>71.7</td>\n",
       "      <td>-14.7</td>\n",
       "      <td>57.0</td>\n",
       "      <td>4</td>\n",
       "      <td>7</td>\n",
       "      <td>2005-07</td>\n",
       "      <td>Summer</td>\n",
       "      <td>3</td>\n",
       "      <td>2005</td>\n",
       "    </tr>\n",
       "  </tbody>\n",
       "</table>\n",
       "</div>"
      ],
      "text/plain": [
       "   UnitPriceDiscount  OrderQty  UnitFreightCost  OrderCost  OrderTotalCost  \\\n",
       "0                0.0         1             51.3     1898.1          1949.4   \n",
       "1                0.0         3             51.3     5694.3          5745.6   \n",
       "2                0.0         1             51.3     1898.1          1949.4   \n",
       "3                0.0         1             51.3     1912.2          1963.5   \n",
       "4                0.0         1             51.3     1912.2          1963.5   \n",
       "5                0.0         2             51.3     3824.3          3875.7   \n",
       "6                0.0         1             51.3     1912.2          1963.5   \n",
       "7                0.0         3             51.3      115.5           166.8   \n",
       "8                0.0         1             51.3       38.5            89.8   \n",
       "9                0.0         6             51.3       20.4            71.7   \n",
       "\n",
       "   OrderProfit  UnitSales  OrderWeekday  OrderMonth OrderYearMonth  \\\n",
       "0       1425.6     3375.0             4           7        2005-07   \n",
       "1       4379.3    10125.0             4           7        2005-07   \n",
       "2       1425.6     3375.0             4           7        2005-07   \n",
       "3       1436.5     3400.0             4           7        2005-07   \n",
       "4       1436.5     3400.0             4           7        2005-07   \n",
       "5       2924.3     6800.0             4           7        2005-07   \n",
       "6       1436.5     3400.0             4           7        2005-07   \n",
       "7        -16.8      150.0             4           7        2005-07   \n",
       "8        -39.8       50.0             4           7        2005-07   \n",
       "9        -14.7       57.0             4           7        2005-07   \n",
       "\n",
       "  OrderSeason  OrderQuarter  OrderYear  \n",
       "0      Summer             3       2005  \n",
       "1      Summer             3       2005  \n",
       "2      Summer             3       2005  \n",
       "3      Summer             3       2005  \n",
       "4      Summer             3       2005  \n",
       "5      Summer             3       2005  \n",
       "6      Summer             3       2005  \n",
       "7      Summer             3       2005  \n",
       "8      Summer             3       2005  \n",
       "9      Summer             3       2005  "
      ]
     },
     "execution_count": 30,
     "metadata": {},
     "output_type": "execute_result"
    }
   ],
   "source": [
    "df.iloc[:10, -13:].round(1)"
   ]
  },
  {
   "cell_type": "markdown",
   "metadata": {},
   "source": [
    "### Data Analysis"
   ]
  },
  {
   "cell_type": "markdown",
   "metadata": {},
   "source": [
    "Let's start our analysis by looking at our numerical variables."
   ]
  },
  {
   "cell_type": "code",
   "execution_count": 31,
   "metadata": {},
   "outputs": [
    {
     "data": {
      "text/html": [
       "<div>\n",
       "<style scoped>\n",
       "    .dataframe tbody tr th:only-of-type {\n",
       "        vertical-align: middle;\n",
       "    }\n",
       "\n",
       "    .dataframe tbody tr th {\n",
       "        vertical-align: top;\n",
       "    }\n",
       "\n",
       "    .dataframe thead th {\n",
       "        text-align: right;\n",
       "    }\n",
       "</style>\n",
       "<table border=\"1\" class=\"dataframe\">\n",
       "  <thead>\n",
       "    <tr style=\"text-align: right;\">\n",
       "      <th></th>\n",
       "      <th>UnitCost</th>\n",
       "      <th>UnitPrice</th>\n",
       "      <th>UnitPriceDiscount</th>\n",
       "      <th>OrderQty</th>\n",
       "      <th>UnitFreightCost</th>\n",
       "      <th>OrderCost</th>\n",
       "      <th>OrderTotalCost</th>\n",
       "      <th>OrderProfit</th>\n",
       "      <th>UnitSales</th>\n",
       "    </tr>\n",
       "  </thead>\n",
       "  <tbody>\n",
       "    <tr>\n",
       "      <th>count</th>\n",
       "      <td>41884.00</td>\n",
       "      <td>41884.00</td>\n",
       "      <td>41884.00</td>\n",
       "      <td>41884.00</td>\n",
       "      <td>41884.00</td>\n",
       "      <td>41884.00</td>\n",
       "      <td>41884.00</td>\n",
       "      <td>41884.00</td>\n",
       "      <td>41884.00</td>\n",
       "    </tr>\n",
       "    <tr>\n",
       "      <th>mean</th>\n",
       "      <td>480.19</td>\n",
       "      <td>797.11</td>\n",
       "      <td>0.01</td>\n",
       "      <td>3.46</td>\n",
       "      <td>41.92</td>\n",
       "      <td>1450.50</td>\n",
       "      <td>1492.41</td>\n",
       "      <td>898.25</td>\n",
       "      <td>2390.67</td>\n",
       "    </tr>\n",
       "    <tr>\n",
       "      <th>std</th>\n",
       "      <td>554.93</td>\n",
       "      <td>915.68</td>\n",
       "      <td>0.03</td>\n",
       "      <td>2.98</td>\n",
       "      <td>26.27</td>\n",
       "      <td>2340.87</td>\n",
       "      <td>2350.88</td>\n",
       "      <td>1515.46</td>\n",
       "      <td>3810.90</td>\n",
       "    </tr>\n",
       "    <tr>\n",
       "      <th>min</th>\n",
       "      <td>0.86</td>\n",
       "      <td>2.29</td>\n",
       "      <td>0.00</td>\n",
       "      <td>1.00</td>\n",
       "      <td>0.03</td>\n",
       "      <td>0.86</td>\n",
       "      <td>0.89</td>\n",
       "      <td>-540.94</td>\n",
       "      <td>2.29</td>\n",
       "    </tr>\n",
       "    <tr>\n",
       "      <th>25%</th>\n",
       "      <td>35.96</td>\n",
       "      <td>61.92</td>\n",
       "      <td>0.00</td>\n",
       "      <td>2.00</td>\n",
       "      <td>25.98</td>\n",
       "      <td>107.88</td>\n",
       "      <td>146.30</td>\n",
       "      <td>67.88</td>\n",
       "      <td>224.97</td>\n",
       "    </tr>\n",
       "    <tr>\n",
       "      <th>50%</th>\n",
       "      <td>294.58</td>\n",
       "      <td>539.99</td>\n",
       "      <td>0.00</td>\n",
       "      <td>3.00</td>\n",
       "      <td>35.78</td>\n",
       "      <td>486.71</td>\n",
       "      <td>530.54</td>\n",
       "      <td>314.10</td>\n",
       "      <td>792.15</td>\n",
       "    </tr>\n",
       "    <tr>\n",
       "      <th>75%</th>\n",
       "      <td>713.08</td>\n",
       "      <td>1120.49</td>\n",
       "      <td>0.00</td>\n",
       "      <td>4.00</td>\n",
       "      <td>50.41</td>\n",
       "      <td>1769.42</td>\n",
       "      <td>1810.15</td>\n",
       "      <td>1064.49</td>\n",
       "      <td>2863.00</td>\n",
       "    </tr>\n",
       "    <tr>\n",
       "      <th>max</th>\n",
       "      <td>2171.29</td>\n",
       "      <td>3578.27</td>\n",
       "      <td>0.40</td>\n",
       "      <td>44.00</td>\n",
       "      <td>274.11</td>\n",
       "      <td>38530.39</td>\n",
       "      <td>38631.41</td>\n",
       "      <td>19718.39</td>\n",
       "      <td>55787.24</td>\n",
       "    </tr>\n",
       "  </tbody>\n",
       "</table>\n",
       "</div>"
      ],
      "text/plain": [
       "       UnitCost  UnitPrice  UnitPriceDiscount  OrderQty  UnitFreightCost  \\\n",
       "count  41884.00   41884.00           41884.00  41884.00         41884.00   \n",
       "mean     480.19     797.11               0.01      3.46            41.92   \n",
       "std      554.93     915.68               0.03      2.98            26.27   \n",
       "min        0.86       2.29               0.00      1.00             0.03   \n",
       "25%       35.96      61.92               0.00      2.00            25.98   \n",
       "50%      294.58     539.99               0.00      3.00            35.78   \n",
       "75%      713.08    1120.49               0.00      4.00            50.41   \n",
       "max     2171.29    3578.27               0.40     44.00           274.11   \n",
       "\n",
       "       OrderCost  OrderTotalCost  OrderProfit  UnitSales  \n",
       "count   41884.00        41884.00     41884.00   41884.00  \n",
       "mean     1450.50         1492.41       898.25    2390.67  \n",
       "std      2340.87         2350.88      1515.46    3810.90  \n",
       "min         0.86            0.89      -540.94       2.29  \n",
       "25%       107.88          146.30        67.88     224.97  \n",
       "50%       486.71          530.54       314.10     792.15  \n",
       "75%      1769.42         1810.15      1064.49    2863.00  \n",
       "max     38530.39        38631.41     19718.39   55787.24  "
      ]
     },
     "execution_count": 31,
     "metadata": {},
     "output_type": "execute_result"
    }
   ],
   "source": [
    "df.describe().iloc[:, :-4].round(2)"
   ]
  },
  {
   "cell_type": "markdown",
   "metadata": {},
   "source": [
    "* Unit costs are ranging from 86 cents up to 2171 USD, with a median of 295 USD\n",
    "* The most expensive product has a price of 3578 USD. The median product price is 540 USD\n",
    "* The highest discount that company offers on its products is 40 %\n",
    "* On average, 3.46 items are ordered - very small number for a wholesale company! The highest amount of items ordered was 44\n",
    "* For shipping company pays 42 USD on average, with the maximum of 274 USD\n",
    "* The highest profit company receved from an order was 19718 USD. The highest revenue - 55787 USD"
   ]
  },
  {
   "cell_type": "code",
   "execution_count": 32,
   "metadata": {},
   "outputs": [
    {
     "data": {
      "text/html": [
       "<div>\n",
       "<style scoped>\n",
       "    .dataframe tbody tr th:only-of-type {\n",
       "        vertical-align: middle;\n",
       "    }\n",
       "\n",
       "    .dataframe tbody tr th {\n",
       "        vertical-align: top;\n",
       "    }\n",
       "\n",
       "    .dataframe thead th {\n",
       "        text-align: right;\n",
       "    }\n",
       "</style>\n",
       "<table border=\"1\" class=\"dataframe\">\n",
       "  <thead>\n",
       "    <tr style=\"text-align: right;\">\n",
       "      <th></th>\n",
       "      <th>UnitCost</th>\n",
       "      <th>UnitPrice</th>\n",
       "      <th>UnitPriceDiscount</th>\n",
       "      <th>OrderQty</th>\n",
       "      <th>UnitFreightCost</th>\n",
       "      <th>OrderCost</th>\n",
       "      <th>OrderTotalCost</th>\n",
       "      <th>OrderProfit</th>\n",
       "      <th>UnitSales</th>\n",
       "      <th>OrderWeekday</th>\n",
       "      <th>OrderMonth</th>\n",
       "      <th>OrderQuarter</th>\n",
       "      <th>OrderYear</th>\n",
       "    </tr>\n",
       "    <tr>\n",
       "      <th>OrderYearMonth</th>\n",
       "      <th></th>\n",
       "      <th></th>\n",
       "      <th></th>\n",
       "      <th></th>\n",
       "      <th></th>\n",
       "      <th></th>\n",
       "      <th></th>\n",
       "      <th></th>\n",
       "      <th></th>\n",
       "      <th></th>\n",
       "      <th></th>\n",
       "      <th></th>\n",
       "      <th></th>\n",
       "    </tr>\n",
       "  </thead>\n",
       "  <tbody>\n",
       "    <tr>\n",
       "      <th>2005-07</th>\n",
       "      <td>180052.9</td>\n",
       "      <td>308595.6</td>\n",
       "      <td>0.0</td>\n",
       "      <td>594</td>\n",
       "      <td>11219.5</td>\n",
       "      <td>373118.2</td>\n",
       "      <td>384337.7</td>\n",
       "      <td>254533.8</td>\n",
       "      <td>638871.5</td>\n",
       "      <td>1068</td>\n",
       "      <td>1869</td>\n",
       "      <td>801</td>\n",
       "      <td>535335</td>\n",
       "    </tr>\n",
       "    <tr>\n",
       "      <th>2005-08</th>\n",
       "      <td>455098.9</td>\n",
       "      <td>788843.4</td>\n",
       "      <td>0.2</td>\n",
       "      <td>1566</td>\n",
       "      <td>36768.7</td>\n",
       "      <td>1194329.0</td>\n",
       "      <td>1231097.7</td>\n",
       "      <td>846648.7</td>\n",
       "      <td>2077746.4</td>\n",
       "      <td>0</td>\n",
       "      <td>4776</td>\n",
       "      <td>1791</td>\n",
       "      <td>1196985</td>\n",
       "    </tr>\n",
       "    <tr>\n",
       "      <th>2005-09</th>\n",
       "      <td>359100.5</td>\n",
       "      <td>622589.4</td>\n",
       "      <td>0.1</td>\n",
       "      <td>1236</td>\n",
       "      <td>28873.6</td>\n",
       "      <td>940895.2</td>\n",
       "      <td>969768.8</td>\n",
       "      <td>663810.5</td>\n",
       "      <td>1633579.3</td>\n",
       "      <td>1464</td>\n",
       "      <td>4392</td>\n",
       "      <td>1464</td>\n",
       "      <td>978440</td>\n",
       "    </tr>\n",
       "    <tr>\n",
       "      <th>2005-10</th>\n",
       "      <td>260093.6</td>\n",
       "      <td>441078.0</td>\n",
       "      <td>0.1</td>\n",
       "      <td>875</td>\n",
       "      <td>18312.4</td>\n",
       "      <td>610570.1</td>\n",
       "      <td>628882.5</td>\n",
       "      <td>413063.8</td>\n",
       "      <td>1041946.3</td>\n",
       "      <td>1830</td>\n",
       "      <td>3660</td>\n",
       "      <td>1464</td>\n",
       "      <td>733830</td>\n",
       "    </tr>\n",
       "    <tr>\n",
       "      <th>2005-11</th>\n",
       "      <td>685175.3</td>\n",
       "      <td>1174180.8</td>\n",
       "      <td>0.2</td>\n",
       "      <td>2352</td>\n",
       "      <td>58389.1</td>\n",
       "      <td>1911948.9</td>\n",
       "      <td>1970338.0</td>\n",
       "      <td>1330724.8</td>\n",
       "      <td>3301062.8</td>\n",
       "      <td>885</td>\n",
       "      <td>9735</td>\n",
       "      <td>3540</td>\n",
       "      <td>1774425</td>\n",
       "    </tr>\n",
       "  </tbody>\n",
       "</table>\n",
       "</div>"
      ],
      "text/plain": [
       "                UnitCost  UnitPrice  UnitPriceDiscount  OrderQty  \\\n",
       "OrderYearMonth                                                     \n",
       "2005-07         180052.9   308595.6                0.0       594   \n",
       "2005-08         455098.9   788843.4                0.2      1566   \n",
       "2005-09         359100.5   622589.4                0.1      1236   \n",
       "2005-10         260093.6   441078.0                0.1       875   \n",
       "2005-11         685175.3  1174180.8                0.2      2352   \n",
       "\n",
       "                UnitFreightCost  OrderCost  OrderTotalCost  OrderProfit  \\\n",
       "OrderYearMonth                                                            \n",
       "2005-07                 11219.5   373118.2        384337.7     254533.8   \n",
       "2005-08                 36768.7  1194329.0       1231097.7     846648.7   \n",
       "2005-09                 28873.6   940895.2        969768.8     663810.5   \n",
       "2005-10                 18312.4   610570.1        628882.5     413063.8   \n",
       "2005-11                 58389.1  1911948.9       1970338.0    1330724.8   \n",
       "\n",
       "                UnitSales  OrderWeekday  OrderMonth  OrderQuarter  OrderYear  \n",
       "OrderYearMonth                                                                \n",
       "2005-07          638871.5          1068        1869           801     535335  \n",
       "2005-08         2077746.4             0        4776          1791    1196985  \n",
       "2005-09         1633579.3          1464        4392          1464     978440  \n",
       "2005-10         1041946.3          1830        3660          1464     733830  \n",
       "2005-11         3301062.8           885        9735          3540    1774425  "
      ]
     },
     "execution_count": 32,
     "metadata": {},
     "output_type": "execute_result"
    }
   ],
   "source": [
    "df_trend = df.groupby('OrderYearMonth').sum().sort_index().round(1)\n",
    "df_trend.head()"
   ]
  },
  {
   "cell_type": "code",
   "execution_count": 33,
   "metadata": {},
   "outputs": [
    {
     "data": {
      "image/png": "[encoded data removed]",
      "text/plain": [
       "<Figure size 1008x504 with 1 Axes>"
      ]
     },
     "metadata": {
      "needs_background": "light"
     },
     "output_type": "display_data"
    }
   ],
   "source": [
    "df_trend['UnitSales'].plot(kind='bar', fontsize=13, figsize=(14, 7), color='tab:blue');\n",
    "plt.title('Monthly Sales Trend', fontsize=20);\n",
    "plt.ylabel('Revenue, Mln $', fontsize=18);\n",
    "plt.xlabel('Year & Month', fontsize=18);"
   ]
  },
  {
   "cell_type": "code",
   "execution_count": 34,
   "metadata": {},
   "outputs": [],
   "source": [
    "# calculating avg revenue for Apr, May, Jun of 2008 and 2007\n",
    "avg_revenue_last_3months = df_trend['UnitSales'][-3:].mean()\n",
    "avg_revenue_prev_year = df_trend['UnitSales'][21:24].mean()"
   ]
  },
  {
   "cell_type": "code",
   "execution_count": 35,
   "metadata": {},
   "outputs": [
    {
     "name": "stdout",
     "output_type": "stream",
     "text": [
      "0.093\n"
     ]
    }
   ],
   "source": [
    "sales_increase = (avg_revenue_last_3months - avg_revenue_prev_year) / avg_revenue_prev_year\n",
    "print(sales_increase.round(3))"
   ]
  },
  {
   "cell_type": "markdown",
   "metadata": {},
   "source": [
    "* No signs of decay in terms of monthly revenue over last couple of months. The last three months average revenue has even increased by 9.3 % compared to the same period in year 2007.\n",
    "* It looks like August was the most financially successful month for the company in 2006 & 2007. We will investigate the reasons behind this later on\n",
    "* There is a clear seasonality in our data: it looks like the sales reach their maximum in August-September, and then gradually decrease until Spring, where upward trend begins again\n",
    "* We can also see high volumes of sales in November, apparently due to BlackFriday event\n",
    "* Interestingly enough, there is no peak in sales during December. Apparently, bikes are not among the most popular X-mas gifts"
   ]
  },
  {
   "cell_type": "code",
   "execution_count": 36,
   "metadata": {},
   "outputs": [
    {
     "data": {
      "image/png": "[encoded data removed]",
      "text/plain": [
       "<Figure size 1008x504 with 1 Axes>"
      ]
     },
     "metadata": {
      "needs_background": "light"
     },
     "output_type": "display_data"
    }
   ],
   "source": [
    "df_trend['OrderQty'].plot(kind='bar', fontsize=13, figsize=(14, 7), color='tab:olive');\n",
    "plt.title('Items Sold per Month', fontsize=20);\n",
    "plt.ylabel('Items Sold', fontsize=18);\n",
    "plt.xlabel('Year & Month', fontsize=18);"
   ]
  },
  {
   "cell_type": "markdown",
   "metadata": {},
   "source": [
    "* On the plot above, we again observe 'business as usual' in terms of items sold over the last few months. The company has sold even more items in April, May and June of 2008 compared to the same months a year ago\n",
    "* Seasonality is even more pronounced on this plot\n",
    "* It looks like almost nobody cares about bikes in January\n",
    "* We can also see that the company sold significantly less items until June 2006 than during a period after. However, there is no such remarkable difference between theese periods in terms of monthly revenue. Perhaps, the company's price policy had been changed in the middle of 2006"
   ]
  },
  {
   "cell_type": "code",
   "execution_count": 37,
   "metadata": {},
   "outputs": [
    {
     "data": {
      "image/png": "[encoded data removed]",
      "text/plain": [
       "<Figure size 1008x504 with 1 Axes>"
      ]
     },
     "metadata": {
      "needs_background": "light"
     },
     "output_type": "display_data"
    }
   ],
   "source": [
    "df_trend['OrderProfit'].plot(kind='bar', fontsize=13, figsize=(14, 7), color='tab:purple');\n",
    "plt.title('Monthly Profit Trend', fontsize=20);\n",
    "plt.ylabel('Profit, Mln $', fontsize=18);\n",
    "plt.xlabel('Year & Month', fontsize=18);"
   ]
  },
  {
   "cell_type": "code",
   "execution_count": 38,
   "metadata": {},
   "outputs": [],
   "source": [
    "# calculating avg profit for Apr, May, Jun of 2008 and 2007\n",
    "avg_profit_last_3months = df_trend['OrderProfit'][-3:].mean()\n",
    "avg_profit_prev_year = df_trend['OrderProfit'][21:24].mean()"
   ]
  },
  {
   "cell_type": "code",
   "execution_count": 39,
   "metadata": {},
   "outputs": [
    {
     "name": "stdout",
     "output_type": "stream",
     "text": [
      "-0.355\n"
     ]
    }
   ],
   "source": [
    "profit_change = (avg_profit_last_3months - avg_profit_prev_year) / avg_profit_prev_year\n",
    "print(profit_change.round(3))"
   ]
  },
  {
   "cell_type": "markdown",
   "metadata": {},
   "source": [
    "* Now we can clearly see why the company's shareholders are concerned. Indeed, company's profit in March, April & June of 2008 is considerably lower compared to the same period of the previous year! Average profit for Apr, May & Jun 2008 is 35.5% lower compared to the same period a year ago!\n",
    "* Again, we can see that August is the most profitable month for the company throughout the whole dataset\n",
    "* Interestingly enough, February looks like a rather profitable month too"
   ]
  },
  {
   "cell_type": "code",
   "execution_count": 40,
   "metadata": {},
   "outputs": [
    {
     "data": {
      "image/png": "[encoded data removed]",
      "text/plain": [
       "<Figure size 1008x504 with 1 Axes>"
      ]
     },
     "metadata": {
      "needs_background": "light"
     },
     "output_type": "display_data"
    }
   ],
   "source": [
    "df_trend['OrderTotalCost'].plot(kind='bar', fontsize=13, figsize=(14, 7), color='tab:red');\n",
    "plt.title('Monthly Total Costs', fontsize=20);\n",
    "plt.ylabel('Expenditure, Mln $', fontsize=18);\n",
    "plt.xlabel('Year & Month', fontsize=18);"
   ]
  },
  {
   "cell_type": "markdown",
   "metadata": {},
   "source": [
    "By looking at Monthly Total Costs plot, we can now understand, why the company's profit has been decreasing recently. The monthly variable costs over the last three months are much higher than in previous years for the same period. \n",
    "\n",
    "Let's now check what cost category increased the most."
   ]
  },
  {
   "cell_type": "code",
   "execution_count": 41,
   "metadata": {},
   "outputs": [
    {
     "data": {
      "image/png": "[encoded data removed]",
      "text/plain": [
       "<Figure size 1152x504 with 2 Axes>"
      ]
     },
     "metadata": {
      "needs_background": "light"
     },
     "output_type": "display_data"
    }
   ],
   "source": [
    "fig = plt.figure(figsize=(16, 7))\n",
    "plt.title('Monthly Order & Freight Costs', fontsize=20)\n",
    "ax = fig.add_subplot(111) \n",
    "ax2 = ax.twinx()\n",
    "\n",
    "width = 0.4\n",
    "\n",
    "df_trend.OrderCost.plot(kind='bar', color='crimson', fontsize=13, ax=ax, width=width, position=1)\n",
    "df_trend.UnitFreightCost.plot(kind='bar', color='pink', fontsize=13, ax=ax2, width=width, position=0, legend=True)\n",
    "\n",
    "ax.set_ylabel('Order Cost, Mln $', fontsize=18)\n",
    "ax2.set_ylabel('Freight Cost, $', fontsize=18)\n",
    "ax.set_xlabel('Year & Month', fontsize=18)\n",
    "ax.legend(['Order Cost'], loc=(0.01, 0.93))\n",
    "ax2.legend(['Freight Cost'], loc=(0.01, 0.87))\n",
    "\n",
    "plt.show()"
   ]
  },
  {
   "cell_type": "markdown",
   "metadata": {},
   "source": [
    "We can observe, that order costs are mostly responsible for the recent overall expenditure increase. This cost category also accounts for the largest share of the company's total variable cost. The increase in unit costs is the reason behind the total profit decline over the last few months.\n",
    "\n",
    "Such a drastic increase in item costs has most likely occurred due to the spike in oil prices which reached the value of 164 USD per barrel in May 2008. [Source](https://www.macrotrends.net/1369/crude-oil-price-history-chart)\n",
    "\n",
    "High oil prices make manufacturing and shipment from China more expensive, where most of the products sold by the company originate from."
   ]
  },
  {
   "cell_type": "markdown",
   "metadata": {},
   "source": [
    "Now, as we found the reason for the profit decline over the last few months, let's continue our analysis and extract more knowledge from the available data."
   ]
  },
  {
   "cell_type": "markdown",
   "metadata": {},
   "source": [
    "##### What are the most selling / profitable product categories?"
   ]
  },
  {
   "cell_type": "code",
   "execution_count": 42,
   "metadata": {},
   "outputs": [
    {
     "data": {
      "text/html": [
       "<div>\n",
       "<style scoped>\n",
       "    .dataframe tbody tr th:only-of-type {\n",
       "        vertical-align: middle;\n",
       "    }\n",
       "\n",
       "    .dataframe tbody tr th {\n",
       "        vertical-align: top;\n",
       "    }\n",
       "\n",
       "    .dataframe thead th {\n",
       "        text-align: right;\n",
       "    }\n",
       "</style>\n",
       "<table border=\"1\" class=\"dataframe\">\n",
       "  <thead>\n",
       "    <tr style=\"text-align: right;\">\n",
       "      <th></th>\n",
       "      <th>UnitCost</th>\n",
       "      <th>UnitPrice</th>\n",
       "      <th>UnitPriceDiscount</th>\n",
       "      <th>OrderQty</th>\n",
       "      <th>UnitFreightCost</th>\n",
       "      <th>OrderCost</th>\n",
       "      <th>OrderTotalCost</th>\n",
       "      <th>OrderProfit</th>\n",
       "      <th>UnitSales</th>\n",
       "      <th>OrderWeekday</th>\n",
       "      <th>OrderMonth</th>\n",
       "      <th>OrderQuarter</th>\n",
       "      <th>OrderYear</th>\n",
       "    </tr>\n",
       "    <tr>\n",
       "      <th>ProductCategory</th>\n",
       "      <th></th>\n",
       "      <th></th>\n",
       "      <th></th>\n",
       "      <th></th>\n",
       "      <th></th>\n",
       "      <th></th>\n",
       "      <th></th>\n",
       "      <th></th>\n",
       "      <th></th>\n",
       "      <th></th>\n",
       "      <th></th>\n",
       "      <th></th>\n",
       "      <th></th>\n",
       "    </tr>\n",
       "  </thead>\n",
       "  <tbody>\n",
       "    <tr>\n",
       "      <th>Accessories</th>\n",
       "      <td>46078.7</td>\n",
       "      <td>118077.5</td>\n",
       "      <td>22.8</td>\n",
       "      <td>15792</td>\n",
       "      <td>115932.7</td>\n",
       "      <td>234065.1</td>\n",
       "      <td>349997.8</td>\n",
       "      <td>239286.8</td>\n",
       "      <td>589284.6</td>\n",
       "      <td>10394</td>\n",
       "      <td>23060</td>\n",
       "      <td>8709</td>\n",
       "      <td>6536093</td>\n",
       "    </tr>\n",
       "    <tr>\n",
       "      <th>Bikes</th>\n",
       "      <td>16579714.3</td>\n",
       "      <td>27148261.2</td>\n",
       "      <td>169.8</td>\n",
       "      <td>53544</td>\n",
       "      <td>819110.8</td>\n",
       "      <td>51383930.8</td>\n",
       "      <td>52203041.7</td>\n",
       "      <td>31211887.9</td>\n",
       "      <td>83414929.6</td>\n",
       "      <td>54156</td>\n",
       "      <td>116809</td>\n",
       "      <td>44189</td>\n",
       "      <td>35153236</td>\n",
       "    </tr>\n",
       "    <tr>\n",
       "      <th>Clothing</th>\n",
       "      <td>207349.5</td>\n",
       "      <td>383250.5</td>\n",
       "      <td>28.0</td>\n",
       "      <td>41751</td>\n",
       "      <td>293182.4</td>\n",
       "      <td>1051155.0</td>\n",
       "      <td>1344337.4</td>\n",
       "      <td>607411.0</td>\n",
       "      <td>1951748.4</td>\n",
       "      <td>25949</td>\n",
       "      <td>56468</td>\n",
       "      <td>21342</td>\n",
       "      <td>16236739</td>\n",
       "    </tr>\n",
       "    <tr>\n",
       "      <th>Components</th>\n",
       "      <td>3279124.7</td>\n",
       "      <td>5736465.4</td>\n",
       "      <td>0.9</td>\n",
       "      <td>33938</td>\n",
       "      <td>527449.0</td>\n",
       "      <td>8083459.8</td>\n",
       "      <td>8610908.8</td>\n",
       "      <td>5563758.2</td>\n",
       "      <td>14174667.0</td>\n",
       "      <td>42983</td>\n",
       "      <td>95952</td>\n",
       "      <td>35678</td>\n",
       "      <td>26124699</td>\n",
       "    </tr>\n",
       "  </tbody>\n",
       "</table>\n",
       "</div>"
      ],
      "text/plain": [
       "                   UnitCost   UnitPrice  UnitPriceDiscount  OrderQty  \\\n",
       "ProductCategory                                                        \n",
       "Accessories         46078.7    118077.5               22.8     15792   \n",
       "Bikes            16579714.3  27148261.2              169.8     53544   \n",
       "Clothing           207349.5    383250.5               28.0     41751   \n",
       "Components        3279124.7   5736465.4                0.9     33938   \n",
       "\n",
       "                 UnitFreightCost   OrderCost  OrderTotalCost  OrderProfit  \\\n",
       "ProductCategory                                                             \n",
       "Accessories             115932.7    234065.1        349997.8     239286.8   \n",
       "Bikes                   819110.8  51383930.8      52203041.7   31211887.9   \n",
       "Clothing                293182.4   1051155.0       1344337.4     607411.0   \n",
       "Components              527449.0   8083459.8       8610908.8    5563758.2   \n",
       "\n",
       "                  UnitSales  OrderWeekday  OrderMonth  OrderQuarter  OrderYear  \n",
       "ProductCategory                                                                 \n",
       "Accessories        589284.6         10394       23060          8709    6536093  \n",
       "Bikes            83414929.6         54156      116809         44189   35153236  \n",
       "Clothing          1951748.4         25949       56468         21342   16236739  \n",
       "Components       14174667.0         42983       95952         35678   26124699  "
      ]
     },
     "execution_count": 42,
     "metadata": {},
     "output_type": "execute_result"
    }
   ],
   "source": [
    "df_cat = df.groupby('ProductCategory').sum().round(1)\n",
    "df_cat.head()"
   ]
  },
  {
   "cell_type": "code",
   "execution_count": 43,
   "metadata": {},
   "outputs": [
    {
     "data": {
      "image/png": "[encoded data removed]",
      "text/plain": [
       "<Figure size 720x432 with 1 Axes>"
      ]
     },
     "metadata": {
      "needs_background": "light"
     },
     "output_type": "display_data"
    }
   ],
   "source": [
    "df_cat['OrderQty'].sort_values(ascending=False).plot(kind='bar', figsize=(10, 6), color='tab:olive');\n",
    "plt.title('Units Sold by Category', fontsize=20);\n",
    "plt.ylabel('Units Sold', fontsize=18);\n",
    "plt.xlabel('Category', fontsize=18);"
   ]
  },
  {
   "cell_type": "markdown",
   "metadata": {},
   "source": [
    "Bikes is the most selling category with Clothing, Components & Accessories being 2nd, 3rd & 4th respectively."
   ]
  },
  {
   "cell_type": "markdown",
   "metadata": {},
   "source": [
    "What about the most profitable category?"
   ]
  },
  {
   "cell_type": "code",
   "execution_count": 44,
   "metadata": {},
   "outputs": [
    {
     "data": {
      "image/png": "[encoded data removed]",
      "text/plain": [
       "<Figure size 720x432 with 1 Axes>"
      ]
     },
     "metadata": {
      "needs_background": "light"
     },
     "output_type": "display_data"
    }
   ],
   "source": [
    "df_cat['OrderProfit'].sort_values(ascending=False).plot(kind='bar', figsize=(10, 6), color='tab:purple');\n",
    "plt.title('Most Profitable Product Categories', fontsize=20);\n",
    "plt.ylabel('Profit, Tens of Mln $', fontsize=18);\n",
    "plt.xlabel('Category', fontsize=18);"
   ]
  },
  {
   "cell_type": "markdown",
   "metadata": {},
   "source": [
    "* Bikes is the most profitable product category by a large margin. During the observed period, this category earned Adventure Works Cycles more than 30 mln USD!\n",
    "* On the other hand, categories Accessories & Clothing have barely exceeded their operating break-even points."
   ]
  },
  {
   "cell_type": "markdown",
   "metadata": {},
   "source": [
    "##### What are the top 10 selling / profitable product sub-categories?"
   ]
  },
  {
   "cell_type": "code",
   "execution_count": 45,
   "metadata": {},
   "outputs": [
    {
     "data": {
      "text/html": [
       "<div>\n",
       "<style scoped>\n",
       "    .dataframe tbody tr th:only-of-type {\n",
       "        vertical-align: middle;\n",
       "    }\n",
       "\n",
       "    .dataframe tbody tr th {\n",
       "        vertical-align: top;\n",
       "    }\n",
       "\n",
       "    .dataframe thead th {\n",
       "        text-align: right;\n",
       "    }\n",
       "</style>\n",
       "<table border=\"1\" class=\"dataframe\">\n",
       "  <thead>\n",
       "    <tr style=\"text-align: right;\">\n",
       "      <th></th>\n",
       "      <th>UnitCost</th>\n",
       "      <th>UnitPrice</th>\n",
       "      <th>UnitPriceDiscount</th>\n",
       "      <th>OrderQty</th>\n",
       "      <th>UnitFreightCost</th>\n",
       "      <th>OrderCost</th>\n",
       "      <th>OrderTotalCost</th>\n",
       "      <th>OrderProfit</th>\n",
       "      <th>UnitSales</th>\n",
       "      <th>OrderWeekday</th>\n",
       "      <th>OrderMonth</th>\n",
       "      <th>OrderQuarter</th>\n",
       "      <th>OrderYear</th>\n",
       "    </tr>\n",
       "    <tr>\n",
       "      <th>ProductSubCategory</th>\n",
       "      <th></th>\n",
       "      <th></th>\n",
       "      <th></th>\n",
       "      <th></th>\n",
       "      <th></th>\n",
       "      <th></th>\n",
       "      <th></th>\n",
       "      <th></th>\n",
       "      <th></th>\n",
       "      <th></th>\n",
       "      <th></th>\n",
       "      <th></th>\n",
       "      <th></th>\n",
       "    </tr>\n",
       "  </thead>\n",
       "  <tbody>\n",
       "    <tr>\n",
       "      <th>Road Bikes</th>\n",
       "      <td>8258336.6</td>\n",
       "      <td>12948246.0</td>\n",
       "      <td>17.7</td>\n",
       "      <td>29310</td>\n",
       "      <td>412999.6</td>\n",
       "      <td>24423530.1</td>\n",
       "      <td>24836529.6</td>\n",
       "      <td>13251110.1</td>\n",
       "      <td>38087639.7</td>\n",
       "      <td>28209</td>\n",
       "      <td>63526</td>\n",
       "      <td>24191</td>\n",
       "      <td>19374723</td>\n",
       "    </tr>\n",
       "    <tr>\n",
       "      <th>Mountain Bikes</th>\n",
       "      <td>6000417.9</td>\n",
       "      <td>10680588.4</td>\n",
       "      <td>86.3</td>\n",
       "      <td>17377</td>\n",
       "      <td>292238.9</td>\n",
       "      <td>20114766.5</td>\n",
       "      <td>20407005.4</td>\n",
       "      <td>14860900.2</td>\n",
       "      <td>35267905.6</td>\n",
       "      <td>16518</td>\n",
       "      <td>36883</td>\n",
       "      <td>13965</td>\n",
       "      <td>10950500</td>\n",
       "    </tr>\n",
       "    <tr>\n",
       "      <th>Jerseys</th>\n",
       "      <td>100605.9</td>\n",
       "      <td>126511.3</td>\n",
       "      <td>5.4</td>\n",
       "      <td>11821</td>\n",
       "      <td>92164.4</td>\n",
       "      <td>484664.3</td>\n",
       "      <td>576828.7</td>\n",
       "      <td>26564.1</td>\n",
       "      <td>603392.9</td>\n",
       "      <td>7766</td>\n",
       "      <td>17550</td>\n",
       "      <td>6619</td>\n",
       "      <td>4964649</td>\n",
       "    </tr>\n",
       "    <tr>\n",
       "      <th>Road Frames</th>\n",
       "      <td>1201513.4</td>\n",
       "      <td>1975614.8</td>\n",
       "      <td>0.1</td>\n",
       "      <td>8427</td>\n",
       "      <td>134640.7</td>\n",
       "      <td>2932550.9</td>\n",
       "      <td>3067191.6</td>\n",
       "      <td>1761800.6</td>\n",
       "      <td>4828992.2</td>\n",
       "      <td>10441</td>\n",
       "      <td>25567</td>\n",
       "      <td>9492</td>\n",
       "      <td>6785674</td>\n",
       "    </tr>\n",
       "    <tr>\n",
       "      <th>Mountain Frames</th>\n",
       "      <td>1415560.8</td>\n",
       "      <td>2533780.2</td>\n",
       "      <td>0.1</td>\n",
       "      <td>8403</td>\n",
       "      <td>146397.0</td>\n",
       "      <td>3346580.5</td>\n",
       "      <td>3492977.4</td>\n",
       "      <td>2491766.0</td>\n",
       "      <td>5984743.4</td>\n",
       "      <td>10449</td>\n",
       "      <td>23594</td>\n",
       "      <td>8808</td>\n",
       "      <td>6636603</td>\n",
       "    </tr>\n",
       "    <tr>\n",
       "      <th>Helmets</th>\n",
       "      <td>24494.3</td>\n",
       "      <td>64206.6</td>\n",
       "      <td>18.8</td>\n",
       "      <td>8291</td>\n",
       "      <td>72536.8</td>\n",
       "      <td>111439.7</td>\n",
       "      <td>183976.5</td>\n",
       "      <td>101582.9</td>\n",
       "      <td>285559.3</td>\n",
       "      <td>5536</td>\n",
       "      <td>12931</td>\n",
       "      <td>4883</td>\n",
       "      <td>3681910</td>\n",
       "    </tr>\n",
       "    <tr>\n",
       "      <th>Gloves</th>\n",
       "      <td>17284.7</td>\n",
       "      <td>43068.5</td>\n",
       "      <td>6.3</td>\n",
       "      <td>7639</td>\n",
       "      <td>47658.2</td>\n",
       "      <td>99548.5</td>\n",
       "      <td>147206.7</td>\n",
       "      <td>94171.5</td>\n",
       "      <td>241378.2</td>\n",
       "      <td>4525</td>\n",
       "      <td>9888</td>\n",
       "      <td>3738</td>\n",
       "      <td>2803372</td>\n",
       "    </tr>\n",
       "    <tr>\n",
       "      <th>Touring Bikes</th>\n",
       "      <td>2320959.8</td>\n",
       "      <td>3519426.8</td>\n",
       "      <td>65.9</td>\n",
       "      <td>6857</td>\n",
       "      <td>113872.4</td>\n",
       "      <td>6845634.3</td>\n",
       "      <td>6959506.6</td>\n",
       "      <td>3099877.7</td>\n",
       "      <td>10059384.3</td>\n",
       "      <td>9429</td>\n",
       "      <td>16400</td>\n",
       "      <td>6033</td>\n",
       "      <td>4828013</td>\n",
       "    </tr>\n",
       "    <tr>\n",
       "      <th>Shorts</th>\n",
       "      <td>27981.7</td>\n",
       "      <td>69549.5</td>\n",
       "      <td>6.4</td>\n",
       "      <td>6040</td>\n",
       "      <td>33002.9</td>\n",
       "      <td>163041.4</td>\n",
       "      <td>196044.4</td>\n",
       "      <td>201428.9</td>\n",
       "      <td>397473.3</td>\n",
       "      <td>3551</td>\n",
       "      <td>7109</td>\n",
       "      <td>2692</td>\n",
       "      <td>2107456</td>\n",
       "    </tr>\n",
       "    <tr>\n",
       "      <th>Wheels</th>\n",
       "      <td>132777.9</td>\n",
       "      <td>299049.4</td>\n",
       "      <td>0.1</td>\n",
       "      <td>3924</td>\n",
       "      <td>55561.6</td>\n",
       "      <td>374537.4</td>\n",
       "      <td>430099.0</td>\n",
       "      <td>413079.1</td>\n",
       "      <td>843178.0</td>\n",
       "      <td>4443</td>\n",
       "      <td>10372</td>\n",
       "      <td>3906</td>\n",
       "      <td>2820933</td>\n",
       "    </tr>\n",
       "  </tbody>\n",
       "</table>\n",
       "</div>"
      ],
      "text/plain": [
       "                     UnitCost   UnitPrice  UnitPriceDiscount  OrderQty  \\\n",
       "ProductSubCategory                                                       \n",
       "Road Bikes          8258336.6  12948246.0               17.7     29310   \n",
       "Mountain Bikes      6000417.9  10680588.4               86.3     17377   \n",
       "Jerseys              100605.9    126511.3                5.4     11821   \n",
       "Road Frames         1201513.4   1975614.8                0.1      8427   \n",
       "Mountain Frames     1415560.8   2533780.2                0.1      8403   \n",
       "Helmets               24494.3     64206.6               18.8      8291   \n",
       "Gloves                17284.7     43068.5                6.3      7639   \n",
       "Touring Bikes       2320959.8   3519426.8               65.9      6857   \n",
       "Shorts                27981.7     69549.5                6.4      6040   \n",
       "Wheels               132777.9    299049.4                0.1      3924   \n",
       "\n",
       "                    UnitFreightCost   OrderCost  OrderTotalCost  OrderProfit  \\\n",
       "ProductSubCategory                                                             \n",
       "Road Bikes                 412999.6  24423530.1      24836529.6   13251110.1   \n",
       "Mountain Bikes             292238.9  20114766.5      20407005.4   14860900.2   \n",
       "Jerseys                     92164.4    484664.3        576828.7      26564.1   \n",
       "Road Frames                134640.7   2932550.9       3067191.6    1761800.6   \n",
       "Mountain Frames            146397.0   3346580.5       3492977.4    2491766.0   \n",
       "Helmets                     72536.8    111439.7        183976.5     101582.9   \n",
       "Gloves                      47658.2     99548.5        147206.7      94171.5   \n",
       "Touring Bikes              113872.4   6845634.3       6959506.6    3099877.7   \n",
       "Shorts                      33002.9    163041.4        196044.4     201428.9   \n",
       "Wheels                      55561.6    374537.4        430099.0     413079.1   \n",
       "\n",
       "                     UnitSales  OrderWeekday  OrderMonth  OrderQuarter  \\\n",
       "ProductSubCategory                                                       \n",
       "Road Bikes          38087639.7         28209       63526         24191   \n",
       "Mountain Bikes      35267905.6         16518       36883         13965   \n",
       "Jerseys               603392.9          7766       17550          6619   \n",
       "Road Frames          4828992.2         10441       25567          9492   \n",
       "Mountain Frames      5984743.4         10449       23594          8808   \n",
       "Helmets               285559.3          5536       12931          4883   \n",
       "Gloves                241378.2          4525        9888          3738   \n",
       "Touring Bikes       10059384.3          9429       16400          6033   \n",
       "Shorts                397473.3          3551        7109          2692   \n",
       "Wheels                843178.0          4443       10372          3906   \n",
       "\n",
       "                    OrderYear  \n",
       "ProductSubCategory             \n",
       "Road Bikes           19374723  \n",
       "Mountain Bikes       10950500  \n",
       "Jerseys               4964649  \n",
       "Road Frames           6785674  \n",
       "Mountain Frames       6636603  \n",
       "Helmets               3681910  \n",
       "Gloves                2803372  \n",
       "Touring Bikes         4828013  \n",
       "Shorts                2107456  \n",
       "Wheels                2820933  "
      ]
     },
     "execution_count": 45,
     "metadata": {},
     "output_type": "execute_result"
    }
   ],
   "source": [
    "df_subcat = df.groupby('ProductSubCategory').sum().round(1)\n",
    "df_subcat.sort_values('OrderQty', ascending=False).head(10)"
   ]
  },
  {
   "cell_type": "code",
   "execution_count": 46,
   "metadata": {},
   "outputs": [
    {
     "data": {
      "image/png": "[encoded data removed]",
      "text/plain": [
       "<Figure size 720x432 with 1 Axes>"
      ]
     },
     "metadata": {
      "needs_background": "light"
     },
     "output_type": "display_data"
    }
   ],
   "source": [
    "df_subcat['OrderQty'].sort_values(ascending=False)[:10].plot(kind='bar', figsize=(10, 6), color='tab:olive');\n",
    "plt.title('Top 10 Most Selling Product Sub-categories', fontsize=20);\n",
    "plt.ylabel('Units Sold', fontsize=18);\n",
    "plt.xlabel('Sub-category', fontsize=18);"
   ]
  },
  {
   "cell_type": "markdown",
   "metadata": {},
   "source": [
    "Road Bikes is by far the most selling product sub-category."
   ]
  },
  {
   "cell_type": "code",
   "execution_count": 47,
   "metadata": {},
   "outputs": [
    {
     "data": {
      "image/png": "[encoded data removed]",
      "text/plain": [
       "<Figure size 720x432 with 1 Axes>"
      ]
     },
     "metadata": {
      "needs_background": "light"
     },
     "output_type": "display_data"
    }
   ],
   "source": [
    "df_subcat['OrderProfit'].sort_values(ascending=False)[:10].plot(kind='bar', figsize=(10, 6), color='tab:purple');\n",
    "plt.title('Top 10 Most Profitable Product Sub-categories', fontsize=20);\n",
    "plt.ylabel('Profit, Tens of Mln $', fontsize=18);\n",
    "plt.xlabel('Sub-category', fontsize=18);"
   ]
  },
  {
   "cell_type": "markdown",
   "metadata": {},
   "source": [
    "As for the overall profit, Mountain Bikes & Road Bikes are the 1st and the 2nd sub-category respectively."
   ]
  },
  {
   "cell_type": "markdown",
   "metadata": {},
   "source": [
    "##### What are 10 least profitable sub-categories?"
   ]
  },
  {
   "cell_type": "code",
   "execution_count": 48,
   "metadata": {},
   "outputs": [
    {
     "data": {
      "image/png": "[encoded data removed]",
      "text/plain": [
       "<Figure size 720x432 with 1 Axes>"
      ]
     },
     "metadata": {
      "needs_background": "light"
     },
     "output_type": "display_data"
    }
   ],
   "source": [
    "df_subcat['OrderProfit'].sort_values(ascending=True)[:10].plot(kind='bar', figsize=(10, 6), color='tab:purple');\n",
    "plt.title('10 Least Profitable Product Sub-categories', fontsize=20);\n",
    "plt.ylabel('Profit / Loss, $', fontsize=18);\n",
    "plt.xlabel('Sub-category', fontsize=18);"
   ]
  },
  {
   "cell_type": "markdown",
   "metadata": {},
   "source": [
    "Sub-categories Caps, Socks, Bottles and Cages, & Cleaners are unprofitable for the company."
   ]
  },
  {
   "cell_type": "markdown",
   "metadata": {},
   "source": [
    "Let's now check for unprofitable sub-categories over the last three months."
   ]
  },
  {
   "cell_type": "code",
   "execution_count": 49,
   "metadata": {},
   "outputs": [],
   "source": [
    "df_subcat_recent = df[df.OrderYearMonth >= '2008-04'].groupby('ProductSubCategory')['OrderProfit'].sum().round(1)"
   ]
  },
  {
   "cell_type": "code",
   "execution_count": 50,
   "metadata": {},
   "outputs": [
    {
     "data": {
      "image/png": "[encoded data removed]",
      "text/plain": [
       "<Figure size 720x432 with 1 Axes>"
      ]
     },
     "metadata": {
      "needs_background": "light"
     },
     "output_type": "display_data"
    }
   ],
   "source": [
    "df_subcat_recent.sort_values(ascending=True)[:10].plot(kind='bar', figsize=(10, 6), color='tab:purple');\n",
    "plt.title('10 Least Profitable Product Sub-categories, Apr-Jun 2008', fontsize=20);\n",
    "plt.ylabel('Profit / Loss, $', fontsize=18);\n",
    "plt.xlabel('Sub-category', fontsize=18);"
   ]
  },
  {
   "cell_type": "markdown",
   "metadata": {},
   "source": [
    "Over the last three months, Adventure Works Cycles lost over 6.000 USD by selling jerseys. Tires & Tubes is another sub-category that became unprofitable due to overall cost increase recently."
   ]
  },
  {
   "cell_type": "markdown",
   "metadata": {},
   "source": [
    "##### What are the top 10 selling / profitable products?"
   ]
  },
  {
   "cell_type": "code",
   "execution_count": 51,
   "metadata": {},
   "outputs": [
    {
     "data": {
      "text/html": [
       "<div>\n",
       "<style scoped>\n",
       "    .dataframe tbody tr th:only-of-type {\n",
       "        vertical-align: middle;\n",
       "    }\n",
       "\n",
       "    .dataframe tbody tr th {\n",
       "        vertical-align: top;\n",
       "    }\n",
       "\n",
       "    .dataframe thead th {\n",
       "        text-align: right;\n",
       "    }\n",
       "</style>\n",
       "<table border=\"1\" class=\"dataframe\">\n",
       "  <thead>\n",
       "    <tr style=\"text-align: right;\">\n",
       "      <th></th>\n",
       "      <th>UnitCost</th>\n",
       "      <th>UnitPrice</th>\n",
       "      <th>UnitPriceDiscount</th>\n",
       "      <th>OrderQty</th>\n",
       "      <th>UnitFreightCost</th>\n",
       "      <th>OrderCost</th>\n",
       "      <th>OrderTotalCost</th>\n",
       "      <th>OrderProfit</th>\n",
       "      <th>UnitSales</th>\n",
       "      <th>OrderWeekday</th>\n",
       "      <th>OrderMonth</th>\n",
       "      <th>OrderQuarter</th>\n",
       "      <th>OrderYear</th>\n",
       "    </tr>\n",
       "    <tr>\n",
       "      <th>ProductName</th>\n",
       "      <th></th>\n",
       "      <th></th>\n",
       "      <th></th>\n",
       "      <th></th>\n",
       "      <th></th>\n",
       "      <th></th>\n",
       "      <th></th>\n",
       "      <th></th>\n",
       "      <th></th>\n",
       "      <th></th>\n",
       "      <th></th>\n",
       "      <th></th>\n",
       "      <th></th>\n",
       "    </tr>\n",
       "  </thead>\n",
       "  <tbody>\n",
       "    <tr>\n",
       "      <th>Long-Sleeve Logo Jersey, L</th>\n",
       "      <td>31313.5</td>\n",
       "      <td>39842.0</td>\n",
       "      <td>1.9</td>\n",
       "      <td>3865</td>\n",
       "      <td>30676.4</td>\n",
       "      <td>152275.5</td>\n",
       "      <td>182951.9</td>\n",
       "      <td>8713.3</td>\n",
       "      <td>191665.2</td>\n",
       "      <td>2389</td>\n",
       "      <td>5575</td>\n",
       "      <td>2102</td>\n",
       "      <td>1599174</td>\n",
       "    </tr>\n",
       "    <tr>\n",
       "      <th>AWC Logo Cap</th>\n",
       "      <td>5697.1</td>\n",
       "      <td>7236.9</td>\n",
       "      <td>1.9</td>\n",
       "      <td>3813</td>\n",
       "      <td>31173.5</td>\n",
       "      <td>27040.2</td>\n",
       "      <td>58213.7</td>\n",
       "      <td>-24214.4</td>\n",
       "      <td>33999.3</td>\n",
       "      <td>2430</td>\n",
       "      <td>5610</td>\n",
       "      <td>2120</td>\n",
       "      <td>1615237</td>\n",
       "    </tr>\n",
       "    <tr>\n",
       "      <th>Sport-100 Helmet, Blue</th>\n",
       "      <td>8754.7</td>\n",
       "      <td>22953.4</td>\n",
       "      <td>6.4</td>\n",
       "      <td>2974</td>\n",
       "      <td>26076.7</td>\n",
       "      <td>40004.8</td>\n",
       "      <td>66081.5</td>\n",
       "      <td>36323.0</td>\n",
       "      <td>102404.5</td>\n",
       "      <td>1965</td>\n",
       "      <td>4500</td>\n",
       "      <td>1702</td>\n",
       "      <td>1316270</td>\n",
       "    </tr>\n",
       "    <tr>\n",
       "      <th>Sport-100 Helmet, Black</th>\n",
       "      <td>8195.3</td>\n",
       "      <td>21483.9</td>\n",
       "      <td>6.4</td>\n",
       "      <td>2735</td>\n",
       "      <td>23930.8</td>\n",
       "      <td>36726.7</td>\n",
       "      <td>60657.5</td>\n",
       "      <td>33630.8</td>\n",
       "      <td>94288.3</td>\n",
       "      <td>1842</td>\n",
       "      <td>4313</td>\n",
       "      <td>1633</td>\n",
       "      <td>1231997</td>\n",
       "    </tr>\n",
       "    <tr>\n",
       "      <th>Sport-100 Helmet, Red</th>\n",
       "      <td>7544.3</td>\n",
       "      <td>19769.4</td>\n",
       "      <td>6.0</td>\n",
       "      <td>2582</td>\n",
       "      <td>22529.4</td>\n",
       "      <td>34708.1</td>\n",
       "      <td>57237.5</td>\n",
       "      <td>31629.0</td>\n",
       "      <td>88866.6</td>\n",
       "      <td>1729</td>\n",
       "      <td>4118</td>\n",
       "      <td>1548</td>\n",
       "      <td>1133643</td>\n",
       "    </tr>\n",
       "    <tr>\n",
       "      <th>Full-Finger Gloves, L</th>\n",
       "      <td>3917.7</td>\n",
       "      <td>9497.5</td>\n",
       "      <td>4.1</td>\n",
       "      <td>2461</td>\n",
       "      <td>8929.4</td>\n",
       "      <td>38566.1</td>\n",
       "      <td>47495.5</td>\n",
       "      <td>42269.2</td>\n",
       "      <td>89764.7</td>\n",
       "      <td>760</td>\n",
       "      <td>1662</td>\n",
       "      <td>634</td>\n",
       "      <td>501619</td>\n",
       "    </tr>\n",
       "    <tr>\n",
       "      <th>Classic Vest, S</th>\n",
       "      <td>7575.9</td>\n",
       "      <td>19050.0</td>\n",
       "      <td>2.9</td>\n",
       "      <td>2298</td>\n",
       "      <td>8455.2</td>\n",
       "      <td>57834.8</td>\n",
       "      <td>66290.0</td>\n",
       "      <td>76179.2</td>\n",
       "      <td>142469.2</td>\n",
       "      <td>1051</td>\n",
       "      <td>2018</td>\n",
       "      <td>763</td>\n",
       "      <td>602245</td>\n",
       "    </tr>\n",
       "    <tr>\n",
       "      <th>Long-Sleeve Logo Jersey, M</th>\n",
       "      <td>20497.1</td>\n",
       "      <td>26044.8</td>\n",
       "      <td>0.5</td>\n",
       "      <td>2063</td>\n",
       "      <td>21344.4</td>\n",
       "      <td>81315.0</td>\n",
       "      <td>102659.4</td>\n",
       "      <td>172.5</td>\n",
       "      <td>102831.9</td>\n",
       "      <td>1583</td>\n",
       "      <td>3775</td>\n",
       "      <td>1420</td>\n",
       "      <td>1045384</td>\n",
       "    </tr>\n",
       "    <tr>\n",
       "      <th>Women's Mountain Shorts, S</th>\n",
       "      <td>6158.0</td>\n",
       "      <td>15537.8</td>\n",
       "      <td>3.2</td>\n",
       "      <td>2017</td>\n",
       "      <td>6446.1</td>\n",
       "      <td>55997.6</td>\n",
       "      <td>62443.8</td>\n",
       "      <td>74061.9</td>\n",
       "      <td>136505.7</td>\n",
       "      <td>777</td>\n",
       "      <td>1469</td>\n",
       "      <td>555</td>\n",
       "      <td>445664</td>\n",
       "    </tr>\n",
       "    <tr>\n",
       "      <th>Women's Mountain Shorts, L</th>\n",
       "      <td>6158.0</td>\n",
       "      <td>15467.8</td>\n",
       "      <td>3.0</td>\n",
       "      <td>1956</td>\n",
       "      <td>6604.8</td>\n",
       "      <td>54420.5</td>\n",
       "      <td>61025.4</td>\n",
       "      <td>71091.3</td>\n",
       "      <td>132116.6</td>\n",
       "      <td>778</td>\n",
       "      <td>1449</td>\n",
       "      <td>550</td>\n",
       "      <td>443659</td>\n",
       "    </tr>\n",
       "  </tbody>\n",
       "</table>\n",
       "</div>"
      ],
      "text/plain": [
       "                            UnitCost  UnitPrice  UnitPriceDiscount  OrderQty  \\\n",
       "ProductName                                                                    \n",
       "Long-Sleeve Logo Jersey, L   31313.5    39842.0                1.9      3865   \n",
       "AWC Logo Cap                  5697.1     7236.9                1.9      3813   \n",
       "Sport-100 Helmet, Blue        8754.7    22953.4                6.4      2974   \n",
       "Sport-100 Helmet, Black       8195.3    21483.9                6.4      2735   \n",
       "Sport-100 Helmet, Red         7544.3    19769.4                6.0      2582   \n",
       "Full-Finger Gloves, L         3917.7     9497.5                4.1      2461   \n",
       "Classic Vest, S               7575.9    19050.0                2.9      2298   \n",
       "Long-Sleeve Logo Jersey, M   20497.1    26044.8                0.5      2063   \n",
       "Women's Mountain Shorts, S    6158.0    15537.8                3.2      2017   \n",
       "Women's Mountain Shorts, L    6158.0    15467.8                3.0      1956   \n",
       "\n",
       "                            UnitFreightCost  OrderCost  OrderTotalCost  \\\n",
       "ProductName                                                              \n",
       "Long-Sleeve Logo Jersey, L          30676.4   152275.5        182951.9   \n",
       "AWC Logo Cap                        31173.5    27040.2         58213.7   \n",
       "Sport-100 Helmet, Blue              26076.7    40004.8         66081.5   \n",
       "Sport-100 Helmet, Black             23930.8    36726.7         60657.5   \n",
       "Sport-100 Helmet, Red               22529.4    34708.1         57237.5   \n",
       "Full-Finger Gloves, L                8929.4    38566.1         47495.5   \n",
       "Classic Vest, S                      8455.2    57834.8         66290.0   \n",
       "Long-Sleeve Logo Jersey, M          21344.4    81315.0        102659.4   \n",
       "Women's Mountain Shorts, S           6446.1    55997.6         62443.8   \n",
       "Women's Mountain Shorts, L           6604.8    54420.5         61025.4   \n",
       "\n",
       "                            OrderProfit  UnitSales  OrderWeekday  OrderMonth  \\\n",
       "ProductName                                                                    \n",
       "Long-Sleeve Logo Jersey, L       8713.3   191665.2          2389        5575   \n",
       "AWC Logo Cap                   -24214.4    33999.3          2430        5610   \n",
       "Sport-100 Helmet, Blue          36323.0   102404.5          1965        4500   \n",
       "Sport-100 Helmet, Black         33630.8    94288.3          1842        4313   \n",
       "Sport-100 Helmet, Red           31629.0    88866.6          1729        4118   \n",
       "Full-Finger Gloves, L           42269.2    89764.7           760        1662   \n",
       "Classic Vest, S                 76179.2   142469.2          1051        2018   \n",
       "Long-Sleeve Logo Jersey, M        172.5   102831.9          1583        3775   \n",
       "Women's Mountain Shorts, S      74061.9   136505.7           777        1469   \n",
       "Women's Mountain Shorts, L      71091.3   132116.6           778        1449   \n",
       "\n",
       "                            OrderQuarter  OrderYear  \n",
       "ProductName                                          \n",
       "Long-Sleeve Logo Jersey, L          2102    1599174  \n",
       "AWC Logo Cap                        2120    1615237  \n",
       "Sport-100 Helmet, Blue              1702    1316270  \n",
       "Sport-100 Helmet, Black             1633    1231997  \n",
       "Sport-100 Helmet, Red               1548    1133643  \n",
       "Full-Finger Gloves, L                634     501619  \n",
       "Classic Vest, S                      763     602245  \n",
       "Long-Sleeve Logo Jersey, M          1420    1045384  \n",
       "Women's Mountain Shorts, S           555     445664  \n",
       "Women's Mountain Shorts, L           550     443659  "
      ]
     },
     "execution_count": 51,
     "metadata": {},
     "output_type": "execute_result"
    }
   ],
   "source": [
    "df_product = df.groupby('ProductName').sum().round(1)\n",
    "df_product.sort_values('OrderQty', ascending=False).head(10)"
   ]
  },
  {
   "cell_type": "code",
   "execution_count": 52,
   "metadata": {},
   "outputs": [
    {
     "data": {
      "image/png": "[encoded data removed]",
      "text/plain": [
       "<Figure size 720x432 with 1 Axes>"
      ]
     },
     "metadata": {
      "needs_background": "light"
     },
     "output_type": "display_data"
    }
   ],
   "source": [
    "df_product['OrderQty'].sort_values(ascending=False)[:10].plot(kind='bar', figsize=(10, 6), color='tab:olive');\n",
    "plt.title('Top 10 Most Selling Products', fontsize=20);\n",
    "plt.ylabel('Units Sold', fontsize=18);\n",
    "plt.xlabel('Product Name', fontsize=18);"
   ]
  },
  {
   "cell_type": "markdown",
   "metadata": {},
   "source": [
    "Interestingly enough, bikes are not among the top ten selling products, but rather items from categories Clothing & Accessories."
   ]
  },
  {
   "cell_type": "code",
   "execution_count": 53,
   "metadata": {},
   "outputs": [
    {
     "data": {
      "image/png": "[encoded data removed]",
      "text/plain": [
       "<Figure size 720x432 with 1 Axes>"
      ]
     },
     "metadata": {
      "needs_background": "light"
     },
     "output_type": "display_data"
    }
   ],
   "source": [
    "df_product['OrderProfit'].sort_values(ascending=False)[:10].plot(kind='bar', figsize=(10, 6), color='tab:purple');\n",
    "plt.title('Top 10 Most Profitable Products', fontsize=20);\n",
    "plt.ylabel('Profit, Mln $', fontsize=18);\n",
    "plt.xlabel('Product Name', fontsize=18);"
   ]
  },
  {
   "cell_type": "markdown",
   "metadata": {},
   "source": [
    "We can see predominantly mountain bikes among the top 10 most profitable products, meaning that bikes have much larger profit margins as oppose to items from other product categories."
   ]
  },
  {
   "cell_type": "markdown",
   "metadata": {},
   "source": [
    "##### During what season / month are the most products sold?"
   ]
  },
  {
   "cell_type": "code",
   "execution_count": 54,
   "metadata": {},
   "outputs": [
    {
     "data": {
      "text/html": [
       "<div>\n",
       "<style scoped>\n",
       "    .dataframe tbody tr th:only-of-type {\n",
       "        vertical-align: middle;\n",
       "    }\n",
       "\n",
       "    .dataframe tbody tr th {\n",
       "        vertical-align: top;\n",
       "    }\n",
       "\n",
       "    .dataframe thead th {\n",
       "        text-align: right;\n",
       "    }\n",
       "</style>\n",
       "<table border=\"1\" class=\"dataframe\">\n",
       "  <thead>\n",
       "    <tr style=\"text-align: right;\">\n",
       "      <th></th>\n",
       "      <th>UnitCost</th>\n",
       "      <th>UnitPrice</th>\n",
       "      <th>UnitPriceDiscount</th>\n",
       "      <th>OrderQty</th>\n",
       "      <th>UnitFreightCost</th>\n",
       "      <th>OrderCost</th>\n",
       "      <th>OrderTotalCost</th>\n",
       "      <th>OrderProfit</th>\n",
       "      <th>UnitSales</th>\n",
       "      <th>OrderWeekday</th>\n",
       "      <th>OrderMonth</th>\n",
       "      <th>OrderQuarter</th>\n",
       "      <th>OrderYear</th>\n",
       "    </tr>\n",
       "    <tr>\n",
       "      <th>OrderSeason</th>\n",
       "      <th></th>\n",
       "      <th></th>\n",
       "      <th></th>\n",
       "      <th></th>\n",
       "      <th></th>\n",
       "      <th></th>\n",
       "      <th></th>\n",
       "      <th></th>\n",
       "      <th></th>\n",
       "      <th></th>\n",
       "      <th></th>\n",
       "      <th></th>\n",
       "      <th></th>\n",
       "    </tr>\n",
       "  </thead>\n",
       "  <tbody>\n",
       "    <tr>\n",
       "      <th>Fall</th>\n",
       "      <td>5108046.4</td>\n",
       "      <td>8705782.1</td>\n",
       "      <td>43.9</td>\n",
       "      <td>40992</td>\n",
       "      <td>478073.4</td>\n",
       "      <td>16068270.3</td>\n",
       "      <td>16546343.7</td>\n",
       "      <td>10736047.5</td>\n",
       "      <td>27282391.1</td>\n",
       "      <td>37079</td>\n",
       "      <td>114496</td>\n",
       "      <td>41386</td>\n",
       "      <td>22908130</td>\n",
       "    </tr>\n",
       "    <tr>\n",
       "      <th>Spring</th>\n",
       "      <td>5066711.9</td>\n",
       "      <td>8097056.0</td>\n",
       "      <td>37.0</td>\n",
       "      <td>32169</td>\n",
       "      <td>416012.4</td>\n",
       "      <td>14920175.8</td>\n",
       "      <td>15336188.2</td>\n",
       "      <td>8385001.9</td>\n",
       "      <td>23721190.1</td>\n",
       "      <td>26887</td>\n",
       "      <td>40903</td>\n",
       "      <td>16847</td>\n",
       "      <td>19612986</td>\n",
       "    </tr>\n",
       "    <tr>\n",
       "      <th>Summer</th>\n",
       "      <td>5257496.5</td>\n",
       "      <td>8644549.0</td>\n",
       "      <td>135.8</td>\n",
       "      <td>43578</td>\n",
       "      <td>465426.6</td>\n",
       "      <td>16473470.2</td>\n",
       "      <td>16938896.9</td>\n",
       "      <td>9594720.5</td>\n",
       "      <td>26533617.3</td>\n",
       "      <td>40253</td>\n",
       "      <td>84172</td>\n",
       "      <td>31752</td>\n",
       "      <td>23664526</td>\n",
       "    </tr>\n",
       "    <tr>\n",
       "      <th>Winter</th>\n",
       "      <td>4680012.5</td>\n",
       "      <td>7938667.6</td>\n",
       "      <td>4.9</td>\n",
       "      <td>28286</td>\n",
       "      <td>396162.4</td>\n",
       "      <td>13290694.5</td>\n",
       "      <td>13686856.9</td>\n",
       "      <td>8906574.1</td>\n",
       "      <td>22593431.0</td>\n",
       "      <td>29263</td>\n",
       "      <td>52718</td>\n",
       "      <td>19933</td>\n",
       "      <td>17865125</td>\n",
       "    </tr>\n",
       "  </tbody>\n",
       "</table>\n",
       "</div>"
      ],
      "text/plain": [
       "              UnitCost  UnitPrice  UnitPriceDiscount  OrderQty  \\\n",
       "OrderSeason                                                      \n",
       "Fall         5108046.4  8705782.1               43.9     40992   \n",
       "Spring       5066711.9  8097056.0               37.0     32169   \n",
       "Summer       5257496.5  8644549.0              135.8     43578   \n",
       "Winter       4680012.5  7938667.6                4.9     28286   \n",
       "\n",
       "             UnitFreightCost   OrderCost  OrderTotalCost  OrderProfit  \\\n",
       "OrderSeason                                                             \n",
       "Fall                478073.4  16068270.3      16546343.7   10736047.5   \n",
       "Spring              416012.4  14920175.8      15336188.2    8385001.9   \n",
       "Summer              465426.6  16473470.2      16938896.9    9594720.5   \n",
       "Winter              396162.4  13290694.5      13686856.9    8906574.1   \n",
       "\n",
       "              UnitSales  OrderWeekday  OrderMonth  OrderQuarter  OrderYear  \n",
       "OrderSeason                                                                 \n",
       "Fall         27282391.1         37079      114496         41386   22908130  \n",
       "Spring       23721190.1         26887       40903         16847   19612986  \n",
       "Summer       26533617.3         40253       84172         31752   23664526  \n",
       "Winter       22593431.0         29263       52718         19933   17865125  "
      ]
     },
     "execution_count": 54,
     "metadata": {},
     "output_type": "execute_result"
    }
   ],
   "source": [
    "df_season = df.groupby('OrderSeason').sum().round(1)\n",
    "df_season"
   ]
  },
  {
   "cell_type": "code",
   "execution_count": 55,
   "metadata": {},
   "outputs": [
    {
     "data": {
      "image/png": "[encoded data removed]",
      "text/plain": [
       "<Figure size 720x432 with 1 Axes>"
      ]
     },
     "metadata": {
      "needs_background": "light"
     },
     "output_type": "display_data"
    }
   ],
   "source": [
    "df_season['OrderQty'].sort_values().plot(kind='bar', figsize=(10, 6), color='tab:olive');\n",
    "plt.title('Units Sold in each Season', fontsize=20);\n",
    "plt.ylabel('Units Sold', fontsize=18);\n",
    "plt.xlabel('Season', fontsize=18);"
   ]
  },
  {
   "cell_type": "markdown",
   "metadata": {},
   "source": [
    "Summer is the most active season in terms of total units sold, following by fall. As already observed, the company sells the least number of items during winter."
   ]
  },
  {
   "cell_type": "code",
   "execution_count": 56,
   "metadata": {},
   "outputs": [
    {
     "data": {
      "image/png": "[encoded data removed]",
      "text/plain": [
       "<Figure size 720x432 with 1 Axes>"
      ]
     },
     "metadata": {
      "needs_background": "light"
     },
     "output_type": "display_data"
    }
   ],
   "source": [
    "df_season['OrderProfit'].sort_values().plot(kind='bar', figsize=(10, 6), color='tab:purple');\n",
    "plt.title('Total Profit earned in each Season', fontsize=20);\n",
    "plt.ylabel('Profit, Tens of Mln $', fontsize=18);\n",
    "plt.xlabel('Season', fontsize=18);"
   ]
  },
  {
   "cell_type": "markdown",
   "metadata": {},
   "source": [
    "Summer is not the most profitable season though, being 2nd after fall. Spring is the least profitable season."
   ]
  },
  {
   "cell_type": "code",
   "execution_count": 57,
   "metadata": {},
   "outputs": [
    {
     "data": {
      "text/html": [
       "<div>\n",
       "<style scoped>\n",
       "    .dataframe tbody tr th:only-of-type {\n",
       "        vertical-align: middle;\n",
       "    }\n",
       "\n",
       "    .dataframe tbody tr th {\n",
       "        vertical-align: top;\n",
       "    }\n",
       "\n",
       "    .dataframe thead th {\n",
       "        text-align: right;\n",
       "    }\n",
       "</style>\n",
       "<table border=\"1\" class=\"dataframe\">\n",
       "  <thead>\n",
       "    <tr style=\"text-align: right;\">\n",
       "      <th></th>\n",
       "      <th>UnitCost</th>\n",
       "      <th>UnitPrice</th>\n",
       "      <th>UnitPriceDiscount</th>\n",
       "      <th>OrderQty</th>\n",
       "      <th>UnitFreightCost</th>\n",
       "      <th>OrderCost</th>\n",
       "      <th>OrderTotalCost</th>\n",
       "      <th>OrderProfit</th>\n",
       "      <th>UnitSales</th>\n",
       "      <th>OrderWeekday</th>\n",
       "      <th>OrderQuarter</th>\n",
       "      <th>OrderYear</th>\n",
       "    </tr>\n",
       "    <tr>\n",
       "      <th>OrderMonth</th>\n",
       "      <th></th>\n",
       "      <th></th>\n",
       "      <th></th>\n",
       "      <th></th>\n",
       "      <th></th>\n",
       "      <th></th>\n",
       "      <th></th>\n",
       "      <th></th>\n",
       "      <th></th>\n",
       "      <th></th>\n",
       "      <th></th>\n",
       "      <th></th>\n",
       "    </tr>\n",
       "  </thead>\n",
       "  <tbody>\n",
       "    <tr>\n",
       "      <th>1</th>\n",
       "      <td>958706.7</td>\n",
       "      <td>1620448.5</td>\n",
       "      <td>0.9</td>\n",
       "      <td>5910</td>\n",
       "      <td>81714.0</td>\n",
       "      <td>2757065.5</td>\n",
       "      <td>2838779.5</td>\n",
       "      <td>1828943.7</td>\n",
       "      <td>4667723.2</td>\n",
       "      <td>2566</td>\n",
       "      <td>1856</td>\n",
       "      <td>3725598</td>\n",
       "    </tr>\n",
       "    <tr>\n",
       "      <th>2</th>\n",
       "      <td>1977919.2</td>\n",
       "      <td>3350238.1</td>\n",
       "      <td>1.1</td>\n",
       "      <td>10084</td>\n",
       "      <td>164648.9</td>\n",
       "      <td>5532642.1</td>\n",
       "      <td>5697291.0</td>\n",
       "      <td>3704343.3</td>\n",
       "      <td>9401634.3</td>\n",
       "      <td>10846</td>\n",
       "      <td>3369</td>\n",
       "      <td>6762322</td>\n",
       "    </tr>\n",
       "    <tr>\n",
       "      <th>3</th>\n",
       "      <td>1462389.3</td>\n",
       "      <td>2478544.1</td>\n",
       "      <td>0.9</td>\n",
       "      <td>7868</td>\n",
       "      <td>114172.2</td>\n",
       "      <td>3824791.8</td>\n",
       "      <td>3938964.0</td>\n",
       "      <td>2542375.3</td>\n",
       "      <td>6481339.2</td>\n",
       "      <td>10133</td>\n",
       "      <td>2695</td>\n",
       "      <td>5409629</td>\n",
       "    </tr>\n",
       "    <tr>\n",
       "      <th>4</th>\n",
       "      <td>1227137.0</td>\n",
       "      <td>1905803.7</td>\n",
       "      <td>3.4</td>\n",
       "      <td>9203</td>\n",
       "      <td>104953.7</td>\n",
       "      <td>3896557.4</td>\n",
       "      <td>4001511.2</td>\n",
       "      <td>1998600.3</td>\n",
       "      <td>6000111.5</td>\n",
       "      <td>9267</td>\n",
       "      <td>5124</td>\n",
       "      <td>5142711</td>\n",
       "    </tr>\n",
       "    <tr>\n",
       "      <th>5</th>\n",
       "      <td>2377185.6</td>\n",
       "      <td>3712708.3</td>\n",
       "      <td>32.6</td>\n",
       "      <td>15098</td>\n",
       "      <td>196886.6</td>\n",
       "      <td>7198826.5</td>\n",
       "      <td>7395713.1</td>\n",
       "      <td>3844026.3</td>\n",
       "      <td>11239739.4</td>\n",
       "      <td>7487</td>\n",
       "      <td>9028</td>\n",
       "      <td>9060646</td>\n",
       "    </tr>\n",
       "    <tr>\n",
       "      <th>6</th>\n",
       "      <td>1898626.0</td>\n",
       "      <td>2913737.7</td>\n",
       "      <td>58.6</td>\n",
       "      <td>11927</td>\n",
       "      <td>137442.5</td>\n",
       "      <td>5368423.1</td>\n",
       "      <td>5505865.6</td>\n",
       "      <td>2314640.0</td>\n",
       "      <td>7820505.6</td>\n",
       "      <td>17383</td>\n",
       "      <td>7254</td>\n",
       "      <td>7280498</td>\n",
       "    </tr>\n",
       "    <tr>\n",
       "      <th>7</th>\n",
       "      <td>1140331.2</td>\n",
       "      <td>1940975.7</td>\n",
       "      <td>40.6</td>\n",
       "      <td>11970</td>\n",
       "      <td>116102.4</td>\n",
       "      <td>3976607.3</td>\n",
       "      <td>4092709.7</td>\n",
       "      <td>2537152.0</td>\n",
       "      <td>6629861.7</td>\n",
       "      <td>15722</td>\n",
       "      <td>8754</td>\n",
       "      <td>5854640</td>\n",
       "    </tr>\n",
       "    <tr>\n",
       "      <th>8</th>\n",
       "      <td>2218539.3</td>\n",
       "      <td>3789835.6</td>\n",
       "      <td>36.6</td>\n",
       "      <td>19681</td>\n",
       "      <td>211881.7</td>\n",
       "      <td>7128439.8</td>\n",
       "      <td>7340321.5</td>\n",
       "      <td>4742928.5</td>\n",
       "      <td>12083250.0</td>\n",
       "      <td>7148</td>\n",
       "      <td>15744</td>\n",
       "      <td>10529388</td>\n",
       "    </tr>\n",
       "    <tr>\n",
       "      <th>9</th>\n",
       "      <td>1778038.5</td>\n",
       "      <td>3036234.4</td>\n",
       "      <td>37.5</td>\n",
       "      <td>16144</td>\n",
       "      <td>170579.2</td>\n",
       "      <td>5769355.6</td>\n",
       "      <td>5939934.8</td>\n",
       "      <td>3779962.8</td>\n",
       "      <td>9719897.6</td>\n",
       "      <td>18894</td>\n",
       "      <td>12858</td>\n",
       "      <td>8599466</td>\n",
       "    </tr>\n",
       "    <tr>\n",
       "      <th>10</th>\n",
       "      <td>1108008.5</td>\n",
       "      <td>1882832.6</td>\n",
       "      <td>3.5</td>\n",
       "      <td>9332</td>\n",
       "      <td>103617.5</td>\n",
       "      <td>3496525.5</td>\n",
       "      <td>3600143.0</td>\n",
       "      <td>2322049.7</td>\n",
       "      <td>5922192.7</td>\n",
       "      <td>7896</td>\n",
       "      <td>10120</td>\n",
       "      <td>5075967</td>\n",
       "    </tr>\n",
       "    <tr>\n",
       "      <th>11</th>\n",
       "      <td>2221999.4</td>\n",
       "      <td>3786715.2</td>\n",
       "      <td>2.8</td>\n",
       "      <td>15516</td>\n",
       "      <td>203876.7</td>\n",
       "      <td>6802389.2</td>\n",
       "      <td>7006265.9</td>\n",
       "      <td>4634035.0</td>\n",
       "      <td>11640300.8</td>\n",
       "      <td>10289</td>\n",
       "      <td>18408</td>\n",
       "      <td>9232697</td>\n",
       "    </tr>\n",
       "    <tr>\n",
       "      <th>12</th>\n",
       "      <td>1743386.6</td>\n",
       "      <td>2967981.0</td>\n",
       "      <td>2.9</td>\n",
       "      <td>12292</td>\n",
       "      <td>149799.5</td>\n",
       "      <td>5000986.9</td>\n",
       "      <td>5150786.4</td>\n",
       "      <td>3373287.1</td>\n",
       "      <td>8524073.5</td>\n",
       "      <td>15851</td>\n",
       "      <td>14708</td>\n",
       "      <td>7377205</td>\n",
       "    </tr>\n",
       "  </tbody>\n",
       "</table>\n",
       "</div>"
      ],
      "text/plain": [
       "             UnitCost  UnitPrice  UnitPriceDiscount  OrderQty  \\\n",
       "OrderMonth                                                      \n",
       "1            958706.7  1620448.5                0.9      5910   \n",
       "2           1977919.2  3350238.1                1.1     10084   \n",
       "3           1462389.3  2478544.1                0.9      7868   \n",
       "4           1227137.0  1905803.7                3.4      9203   \n",
       "5           2377185.6  3712708.3               32.6     15098   \n",
       "6           1898626.0  2913737.7               58.6     11927   \n",
       "7           1140331.2  1940975.7               40.6     11970   \n",
       "8           2218539.3  3789835.6               36.6     19681   \n",
       "9           1778038.5  3036234.4               37.5     16144   \n",
       "10          1108008.5  1882832.6                3.5      9332   \n",
       "11          2221999.4  3786715.2                2.8     15516   \n",
       "12          1743386.6  2967981.0                2.9     12292   \n",
       "\n",
       "            UnitFreightCost  OrderCost  OrderTotalCost  OrderProfit  \\\n",
       "OrderMonth                                                            \n",
       "1                   81714.0  2757065.5       2838779.5    1828943.7   \n",
       "2                  164648.9  5532642.1       5697291.0    3704343.3   \n",
       "3                  114172.2  3824791.8       3938964.0    2542375.3   \n",
       "4                  104953.7  3896557.4       4001511.2    1998600.3   \n",
       "5                  196886.6  7198826.5       7395713.1    3844026.3   \n",
       "6                  137442.5  5368423.1       5505865.6    2314640.0   \n",
       "7                  116102.4  3976607.3       4092709.7    2537152.0   \n",
       "8                  211881.7  7128439.8       7340321.5    4742928.5   \n",
       "9                  170579.2  5769355.6       5939934.8    3779962.8   \n",
       "10                 103617.5  3496525.5       3600143.0    2322049.7   \n",
       "11                 203876.7  6802389.2       7006265.9    4634035.0   \n",
       "12                 149799.5  5000986.9       5150786.4    3373287.1   \n",
       "\n",
       "             UnitSales  OrderWeekday  OrderQuarter  OrderYear  \n",
       "OrderMonth                                                     \n",
       "1            4667723.2          2566          1856    3725598  \n",
       "2            9401634.3         10846          3369    6762322  \n",
       "3            6481339.2         10133          2695    5409629  \n",
       "4            6000111.5          9267          5124    5142711  \n",
       "5           11239739.4          7487          9028    9060646  \n",
       "6            7820505.6         17383          7254    7280498  \n",
       "7            6629861.7         15722          8754    5854640  \n",
       "8           12083250.0          7148         15744   10529388  \n",
       "9            9719897.6         18894         12858    8599466  \n",
       "10           5922192.7          7896         10120    5075967  \n",
       "11          11640300.8         10289         18408    9232697  \n",
       "12           8524073.5         15851         14708    7377205  "
      ]
     },
     "execution_count": 57,
     "metadata": {},
     "output_type": "execute_result"
    }
   ],
   "source": [
    "df_month = df.groupby('OrderMonth').sum().round(1)\n",
    "df_month"
   ]
  },
  {
   "cell_type": "code",
   "execution_count": 58,
   "metadata": {},
   "outputs": [
    {
     "data": {
      "image/png": "[encoded data removed]",
      "text/plain": [
       "<Figure size 720x432 with 1 Axes>"
      ]
     },
     "metadata": {
      "needs_background": "light"
     },
     "output_type": "display_data"
    }
   ],
   "source": [
    "df_month['OrderQty'].plot(kind='bar', figsize=(10, 6), color='tab:olive');\n",
    "plt.title('Units Sold in each Month', fontsize=20);\n",
    "plt.ylabel('Units Sold', fontsize=18);\n",
    "plt.xlabel('Months', fontsize=18);"
   ]
  },
  {
   "cell_type": "markdown",
   "metadata": {},
   "source": [
    "The highest number of items is sold in August, following by September, November & May. In January, the company sells the lowest number of products."
   ]
  },
  {
   "cell_type": "code",
   "execution_count": 59,
   "metadata": {},
   "outputs": [
    {
     "data": {
      "image/png": "[encoded data removed]",
      "text/plain": [
       "<Figure size 720x432 with 1 Axes>"
      ]
     },
     "metadata": {
      "needs_background": "light"
     },
     "output_type": "display_data"
    }
   ],
   "source": [
    "df_month['OrderProfit'].plot(kind='bar', figsize=(10, 6), color='tab:purple');\n",
    "plt.title('Total Profit earned in each Month', fontsize=20);\n",
    "plt.ylabel('Profit, Mln $', fontsize=18);\n",
    "plt.xlabel('Months', fontsize=18);"
   ]
  },
  {
   "cell_type": "markdown",
   "metadata": {},
   "source": [
    "August is the most profitable month for the company with November being the second one by a slim margin. January and April are the least financially successful months for the company."
   ]
  },
  {
   "cell_type": "markdown",
   "metadata": {},
   "source": [
    "Let's now check how different product categories are sold each month."
   ]
  },
  {
   "cell_type": "code",
   "execution_count": 60,
   "metadata": {},
   "outputs": [
    {
     "data": {
      "text/html": [
       "<div>\n",
       "<style scoped>\n",
       "    .dataframe tbody tr th:only-of-type {\n",
       "        vertical-align: middle;\n",
       "    }\n",
       "\n",
       "    .dataframe tbody tr th {\n",
       "        vertical-align: top;\n",
       "    }\n",
       "\n",
       "    .dataframe thead th {\n",
       "        text-align: right;\n",
       "    }\n",
       "</style>\n",
       "<table border=\"1\" class=\"dataframe\">\n",
       "  <thead>\n",
       "    <tr style=\"text-align: right;\">\n",
       "      <th></th>\n",
       "      <th>OrderMonth</th>\n",
       "      <th>ProductCategory</th>\n",
       "      <th>OrderQty</th>\n",
       "    </tr>\n",
       "  </thead>\n",
       "  <tbody>\n",
       "    <tr>\n",
       "      <th>0</th>\n",
       "      <td>1</td>\n",
       "      <td>Accessories</td>\n",
       "      <td>587</td>\n",
       "    </tr>\n",
       "    <tr>\n",
       "      <th>1</th>\n",
       "      <td>1</td>\n",
       "      <td>Bikes</td>\n",
       "      <td>2861</td>\n",
       "    </tr>\n",
       "    <tr>\n",
       "      <th>2</th>\n",
       "      <td>1</td>\n",
       "      <td>Clothing</td>\n",
       "      <td>1775</td>\n",
       "    </tr>\n",
       "    <tr>\n",
       "      <th>3</th>\n",
       "      <td>1</td>\n",
       "      <td>Components</td>\n",
       "      <td>687</td>\n",
       "    </tr>\n",
       "    <tr>\n",
       "      <th>4</th>\n",
       "      <td>2</td>\n",
       "      <td>Accessories</td>\n",
       "      <td>699</td>\n",
       "    </tr>\n",
       "    <tr>\n",
       "      <th>5</th>\n",
       "      <td>2</td>\n",
       "      <td>Bikes</td>\n",
       "      <td>5238</td>\n",
       "    </tr>\n",
       "    <tr>\n",
       "      <th>6</th>\n",
       "      <td>2</td>\n",
       "      <td>Clothing</td>\n",
       "      <td>2470</td>\n",
       "    </tr>\n",
       "    <tr>\n",
       "      <th>7</th>\n",
       "      <td>2</td>\n",
       "      <td>Components</td>\n",
       "      <td>1677</td>\n",
       "    </tr>\n",
       "    <tr>\n",
       "      <th>8</th>\n",
       "      <td>3</td>\n",
       "      <td>Accessories</td>\n",
       "      <td>703</td>\n",
       "    </tr>\n",
       "    <tr>\n",
       "      <th>9</th>\n",
       "      <td>3</td>\n",
       "      <td>Bikes</td>\n",
       "      <td>3688</td>\n",
       "    </tr>\n",
       "  </tbody>\n",
       "</table>\n",
       "</div>"
      ],
      "text/plain": [
       "   OrderMonth ProductCategory  OrderQty\n",
       "0           1     Accessories       587\n",
       "1           1           Bikes      2861\n",
       "2           1        Clothing      1775\n",
       "3           1      Components       687\n",
       "4           2     Accessories       699\n",
       "5           2           Bikes      5238\n",
       "6           2        Clothing      2470\n",
       "7           2      Components      1677\n",
       "8           3     Accessories       703\n",
       "9           3           Bikes      3688"
      ]
     },
     "execution_count": 60,
     "metadata": {},
     "output_type": "execute_result"
    }
   ],
   "source": [
    "df_cat_month = pd.DataFrame(df.groupby(['OrderMonth', 'ProductCategory'])['OrderQty'].sum()).reset_index()\n",
    "df_cat_month.head(10)"
   ]
  },
  {
   "cell_type": "code",
   "execution_count": 61,
   "metadata": {},
   "outputs": [
    {
     "data": {
      "image/png": "[encoded data removed]",
      "text/plain": [
       "<Figure size 1008x576 with 1 Axes>"
      ]
     },
     "metadata": {},
     "output_type": "display_data"
    }
   ],
   "source": [
    "sns.set(rc={'figure.figsize':(14, 8)})\n",
    "ax = sns.barplot(x='OrderMonth', y='OrderQty', hue='ProductCategory', data=df_cat_month, ci=None, palette='muted')\n",
    "plt.title('Units Sold by Category in each Month', fontsize=20);\n",
    "plt.ylabel('Units Sold', fontsize=18);\n",
    "plt.xlabel('Months', fontsize=18);"
   ]
  },
  {
   "cell_type": "markdown",
   "metadata": {},
   "source": [
    "As we can see, products from categories Clothing & Components are especially popular during August & September. There are probably certain marketing measures that are responsible for this. The highest number of bikes the company sells during February, May, August & November."
   ]
  },
  {
   "cell_type": "markdown",
   "metadata": {},
   "source": [
    "##### What was the most successful year for the company?"
   ]
  },
  {
   "cell_type": "markdown",
   "metadata": {},
   "source": [
    "Next, we check what year was the most profitable for the company."
   ]
  },
  {
   "cell_type": "code",
   "execution_count": 62,
   "metadata": {},
   "outputs": [
    {
     "data": {
      "image/png": "[encoded data removed]",
      "text/plain": [
       "<Figure size 720x432 with 1 Axes>"
      ]
     },
     "metadata": {},
     "output_type": "display_data"
    }
   ],
   "source": [
    "df.groupby('OrderYear')['OrderProfit'].sum().plot(kind='bar', figsize=(10, 6), color='tab:purple');\n",
    "plt.title('Total Annual Profit', fontsize=20);\n",
    "plt.ylabel('Profit, Tens of Mln $', fontsize=18);\n",
    "plt.xlabel('Years', fontsize=18);"
   ]
  },
  {
   "cell_type": "markdown",
   "metadata": {},
   "source": [
    "It seems like in 2007 the company paid the highest tax bill. Note though, that the data for 2005 & 2008 are incomplete."
   ]
  },
  {
   "cell_type": "markdown",
   "metadata": {},
   "source": [
    "##### During what season does the company sell discounted products?"
   ]
  },
  {
   "cell_type": "code",
   "execution_count": 63,
   "metadata": {},
   "outputs": [
    {
     "data": {
      "text/html": [
       "<div>\n",
       "<style scoped>\n",
       "    .dataframe tbody tr th:only-of-type {\n",
       "        vertical-align: middle;\n",
       "    }\n",
       "\n",
       "    .dataframe tbody tr th {\n",
       "        vertical-align: top;\n",
       "    }\n",
       "\n",
       "    .dataframe thead th {\n",
       "        text-align: right;\n",
       "    }\n",
       "</style>\n",
       "<table border=\"1\" class=\"dataframe\">\n",
       "  <thead>\n",
       "    <tr style=\"text-align: right;\">\n",
       "      <th></th>\n",
       "      <th>OrderSeason</th>\n",
       "      <th>ProductCategory</th>\n",
       "      <th>UnitPriceDiscount</th>\n",
       "    </tr>\n",
       "  </thead>\n",
       "  <tbody>\n",
       "    <tr>\n",
       "      <th>0</th>\n",
       "      <td>Fall</td>\n",
       "      <td>Accessories</td>\n",
       "      <td>0.0026</td>\n",
       "    </tr>\n",
       "    <tr>\n",
       "      <th>1</th>\n",
       "      <td>Fall</td>\n",
       "      <td>Bikes</td>\n",
       "      <td>0.0073</td>\n",
       "    </tr>\n",
       "    <tr>\n",
       "      <th>2</th>\n",
       "      <td>Fall</td>\n",
       "      <td>Clothing</td>\n",
       "      <td>0.0039</td>\n",
       "    </tr>\n",
       "    <tr>\n",
       "      <th>3</th>\n",
       "      <td>Fall</td>\n",
       "      <td>Components</td>\n",
       "      <td>0.0001</td>\n",
       "    </tr>\n",
       "    <tr>\n",
       "      <th>4</th>\n",
       "      <td>Spring</td>\n",
       "      <td>Accessories</td>\n",
       "      <td>0.0019</td>\n",
       "    </tr>\n",
       "    <tr>\n",
       "      <th>5</th>\n",
       "      <td>Spring</td>\n",
       "      <td>Bikes</td>\n",
       "      <td>0.0070</td>\n",
       "    </tr>\n",
       "    <tr>\n",
       "      <th>6</th>\n",
       "      <td>Spring</td>\n",
       "      <td>Clothing</td>\n",
       "      <td>0.0027</td>\n",
       "    </tr>\n",
       "    <tr>\n",
       "      <th>7</th>\n",
       "      <td>Spring</td>\n",
       "      <td>Components</td>\n",
       "      <td>0.0000</td>\n",
       "    </tr>\n",
       "    <tr>\n",
       "      <th>8</th>\n",
       "      <td>Summer</td>\n",
       "      <td>Accessories</td>\n",
       "      <td>0.0186</td>\n",
       "    </tr>\n",
       "    <tr>\n",
       "      <th>9</th>\n",
       "      <td>Summer</td>\n",
       "      <td>Bikes</td>\n",
       "      <td>0.0245</td>\n",
       "    </tr>\n",
       "    <tr>\n",
       "      <th>10</th>\n",
       "      <td>Summer</td>\n",
       "      <td>Clothing</td>\n",
       "      <td>0.0047</td>\n",
       "    </tr>\n",
       "    <tr>\n",
       "      <th>11</th>\n",
       "      <td>Summer</td>\n",
       "      <td>Components</td>\n",
       "      <td>0.0001</td>\n",
       "    </tr>\n",
       "    <tr>\n",
       "      <th>12</th>\n",
       "      <td>Winter</td>\n",
       "      <td>Accessories</td>\n",
       "      <td>0.0008</td>\n",
       "    </tr>\n",
       "    <tr>\n",
       "      <th>13</th>\n",
       "      <td>Winter</td>\n",
       "      <td>Bikes</td>\n",
       "      <td>0.0002</td>\n",
       "    </tr>\n",
       "    <tr>\n",
       "      <th>14</th>\n",
       "      <td>Winter</td>\n",
       "      <td>Clothing</td>\n",
       "      <td>0.0020</td>\n",
       "    </tr>\n",
       "    <tr>\n",
       "      <th>15</th>\n",
       "      <td>Winter</td>\n",
       "      <td>Components</td>\n",
       "      <td>0.0000</td>\n",
       "    </tr>\n",
       "  </tbody>\n",
       "</table>\n",
       "</div>"
      ],
      "text/plain": [
       "   OrderSeason ProductCategory  UnitPriceDiscount\n",
       "0         Fall     Accessories             0.0026\n",
       "1         Fall           Bikes             0.0073\n",
       "2         Fall        Clothing             0.0039\n",
       "3         Fall      Components             0.0001\n",
       "4       Spring     Accessories             0.0019\n",
       "5       Spring           Bikes             0.0070\n",
       "6       Spring        Clothing             0.0027\n",
       "7       Spring      Components             0.0000\n",
       "8       Summer     Accessories             0.0186\n",
       "9       Summer           Bikes             0.0245\n",
       "10      Summer        Clothing             0.0047\n",
       "11      Summer      Components             0.0001\n",
       "12      Winter     Accessories             0.0008\n",
       "13      Winter           Bikes             0.0002\n",
       "14      Winter        Clothing             0.0020\n",
       "15      Winter      Components             0.0000"
      ]
     },
     "execution_count": 63,
     "metadata": {},
     "output_type": "execute_result"
    }
   ],
   "source": [
    "df_discounts = pd.DataFrame(df.groupby(['OrderSeason', 'ProductCategory'])['UnitPriceDiscount'].mean()).reset_index().round(4)\n",
    "df_discounts"
   ]
  },
  {
   "cell_type": "code",
   "execution_count": 64,
   "metadata": {},
   "outputs": [
    {
     "data": {
      "image/png": "[encoded data removed]",
      "text/plain": [
       "<Figure size 720x432 with 1 Axes>"
      ]
     },
     "metadata": {},
     "output_type": "display_data"
    }
   ],
   "source": [
    "sns.set(rc={'figure.figsize':(10, 6)})\n",
    "ax = sns.barplot(x='OrderSeason', y='UnitPriceDiscount', hue='ProductCategory', \n",
    "                 data=df_discounts, ci=None, palette='muted')\n",
    "plt.title('Average Discount by Category in each Season', fontsize=20);\n",
    "plt.ylabel('Average Discount', fontsize=18);\n",
    "plt.xlabel('Seasons', fontsize=18);"
   ]
  },
  {
   "cell_type": "markdown",
   "metadata": {},
   "source": [
    "* During summer, the company often offers its products at discounted prices\n",
    "* That is probably why we observe sales peak in August\n",
    "* There are no sales discounts on units from the category Components\n",
    "* Almost no sales promotions during winter season"
   ]
  },
  {
   "cell_type": "code",
   "execution_count": 65,
   "metadata": {},
   "outputs": [
    {
     "data": {
      "text/html": [
       "<div>\n",
       "<style scoped>\n",
       "    .dataframe tbody tr th:only-of-type {\n",
       "        vertical-align: middle;\n",
       "    }\n",
       "\n",
       "    .dataframe tbody tr th {\n",
       "        vertical-align: top;\n",
       "    }\n",
       "\n",
       "    .dataframe thead th {\n",
       "        text-align: right;\n",
       "    }\n",
       "</style>\n",
       "<table border=\"1\" class=\"dataframe\">\n",
       "  <thead>\n",
       "    <tr style=\"text-align: right;\">\n",
       "      <th></th>\n",
       "      <th>OrderMonth</th>\n",
       "      <th>ProductCategory</th>\n",
       "      <th>UnitPriceDiscount</th>\n",
       "    </tr>\n",
       "  </thead>\n",
       "  <tbody>\n",
       "    <tr>\n",
       "      <th>0</th>\n",
       "      <td>1</td>\n",
       "      <td>Accessories</td>\n",
       "      <td>0.0000</td>\n",
       "    </tr>\n",
       "    <tr>\n",
       "      <th>1</th>\n",
       "      <td>1</td>\n",
       "      <td>Bikes</td>\n",
       "      <td>0.0002</td>\n",
       "    </tr>\n",
       "    <tr>\n",
       "      <th>2</th>\n",
       "      <td>1</td>\n",
       "      <td>Clothing</td>\n",
       "      <td>0.0019</td>\n",
       "    </tr>\n",
       "    <tr>\n",
       "      <th>3</th>\n",
       "      <td>1</td>\n",
       "      <td>Components</td>\n",
       "      <td>0.0000</td>\n",
       "    </tr>\n",
       "    <tr>\n",
       "      <th>4</th>\n",
       "      <td>2</td>\n",
       "      <td>Accessories</td>\n",
       "      <td>0.0003</td>\n",
       "    </tr>\n",
       "  </tbody>\n",
       "</table>\n",
       "</div>"
      ],
      "text/plain": [
       "   OrderMonth ProductCategory  UnitPriceDiscount\n",
       "0           1     Accessories             0.0000\n",
       "1           1           Bikes             0.0002\n",
       "2           1        Clothing             0.0019\n",
       "3           1      Components             0.0000\n",
       "4           2     Accessories             0.0003"
      ]
     },
     "execution_count": 65,
     "metadata": {},
     "output_type": "execute_result"
    }
   ],
   "source": [
    "df_discounts = pd.DataFrame(df.groupby(['OrderMonth', 'ProductCategory'])['UnitPriceDiscount'].mean()).reset_index().round(4)\n",
    "df_discounts.head()"
   ]
  },
  {
   "cell_type": "code",
   "execution_count": 66,
   "metadata": {
    "scrolled": false
   },
   "outputs": [
    {
     "data": {
      "image/png": "[encoded data removed]",
      "text/plain": [
       "<Figure size 1008x576 with 1 Axes>"
      ]
     },
     "metadata": {},
     "output_type": "display_data"
    }
   ],
   "source": [
    "sns.set(rc={'figure.figsize':(14, 8)})\n",
    "ax = sns.barplot(x='OrderMonth', y='UnitPriceDiscount', hue='ProductCategory', \n",
    "                 data=df_discounts, ci=None, palette='muted')\n",
    "plt.title('Average Discount by Category in each Month', fontsize=20);\n",
    "plt.ylabel('Average Discount', fontsize=18);\n",
    "plt.xlabel('Months', fontsize=18);"
   ]
  },
  {
   "cell_type": "markdown",
   "metadata": {},
   "source": [
    "There are particularly frequent sales discounts on Accessories in July, and on Bikes in June. Overall, the company is active with its sales promotions from May till September."
   ]
  },
  {
   "cell_type": "markdown",
   "metadata": {},
   "source": [
    "##### What is the most profitable customer region?"
   ]
  },
  {
   "cell_type": "code",
   "execution_count": 67,
   "metadata": {},
   "outputs": [
    {
     "data": {
      "text/plain": [
       "SalesRegion\n",
       "France            2502049.4\n",
       "Germany               143.8\n",
       "United States    35120150.7\n",
       "Name: OrderProfit, dtype: float64"
      ]
     },
     "execution_count": 67,
     "metadata": {},
     "output_type": "execute_result"
    }
   ],
   "source": [
    "df_region = df.groupby('SalesRegion').sum().round(1)\n",
    "df_region['OrderProfit']"
   ]
  },
  {
   "cell_type": "code",
   "execution_count": 71,
   "metadata": {},
   "outputs": [
    {
     "data": {
      "image/png": "[encoded data removed]",
      "text/plain": [
       "<Figure size 720x432 with 1 Axes>"
      ]
     },
     "metadata": {},
     "output_type": "display_data"
    }
   ],
   "source": [
    "df_region['OrderProfit'].plot(kind='bar', figsize=(10, 6), color='tab:purple');\n",
    "plt.title('Total Profit by Customer Region', fontsize=20);\n",
    "plt.ylabel('Profit, Tens of Mln $', fontsize=18);\n",
    "plt.xlabel('Regions', fontsize=18);"
   ]
  },
  {
   "cell_type": "markdown",
   "metadata": {},
   "source": [
    "The vast majority of its profit the company yield in the USA. The company earned slightly over 35 Mln USD in this country during the observed period."
   ]
  },
  {
   "cell_type": "markdown",
   "metadata": {},
   "source": [
    "##### What are the top 10 most profitable customer provinces?"
   ]
  },
  {
   "cell_type": "code",
   "execution_count": 120,
   "metadata": {},
   "outputs": [
    {
     "data": {
      "text/html": [
       "<div>\n",
       "<style scoped>\n",
       "    .dataframe tbody tr th:only-of-type {\n",
       "        vertical-align: middle;\n",
       "    }\n",
       "\n",
       "    .dataframe tbody tr th {\n",
       "        vertical-align: top;\n",
       "    }\n",
       "\n",
       "    .dataframe thead th {\n",
       "        text-align: right;\n",
       "    }\n",
       "</style>\n",
       "<table border=\"1\" class=\"dataframe\">\n",
       "  <thead>\n",
       "    <tr style=\"text-align: right;\">\n",
       "      <th></th>\n",
       "      <th>UnitCost</th>\n",
       "      <th>UnitPrice</th>\n",
       "      <th>UnitPriceDiscount</th>\n",
       "      <th>OrderQty</th>\n",
       "      <th>UnitFreightCost</th>\n",
       "      <th>OrderCost</th>\n",
       "      <th>OrderTotalCost</th>\n",
       "      <th>OrderProfit</th>\n",
       "      <th>UnitSales</th>\n",
       "      <th>OrderWeekday</th>\n",
       "      <th>OrderMonth</th>\n",
       "      <th>OrderQuarter</th>\n",
       "      <th>OrderYear</th>\n",
       "    </tr>\n",
       "    <tr>\n",
       "      <th>CustomerProvince</th>\n",
       "      <th></th>\n",
       "      <th></th>\n",
       "      <th></th>\n",
       "      <th></th>\n",
       "      <th></th>\n",
       "      <th></th>\n",
       "      <th></th>\n",
       "      <th></th>\n",
       "      <th></th>\n",
       "      <th></th>\n",
       "      <th></th>\n",
       "      <th></th>\n",
       "      <th></th>\n",
       "    </tr>\n",
       "  </thead>\n",
       "  <tbody>\n",
       "    <tr>\n",
       "      <th>California</th>\n",
       "      <td>3399268.3</td>\n",
       "      <td>5595190.8</td>\n",
       "      <td>40.0</td>\n",
       "      <td>24302</td>\n",
       "      <td>299362.7</td>\n",
       "      <td>10508788.4</td>\n",
       "      <td>10808151.1</td>\n",
       "      <td>6285796.8</td>\n",
       "      <td>17093947.9</td>\n",
       "      <td>21473</td>\n",
       "      <td>49449</td>\n",
       "      <td>18201</td>\n",
       "      <td>13886308</td>\n",
       "    </tr>\n",
       "    <tr>\n",
       "      <th>Washington</th>\n",
       "      <td>2315631.8</td>\n",
       "      <td>3873919.2</td>\n",
       "      <td>26.4</td>\n",
       "      <td>16388</td>\n",
       "      <td>211077.0</td>\n",
       "      <td>7218733.4</td>\n",
       "      <td>7429810.5</td>\n",
       "      <td>4542731.7</td>\n",
       "      <td>11972542.1</td>\n",
       "      <td>13964</td>\n",
       "      <td>31698</td>\n",
       "      <td>11976</td>\n",
       "      <td>9179054</td>\n",
       "    </tr>\n",
       "    <tr>\n",
       "      <th>Texas</th>\n",
       "      <td>2250543.3</td>\n",
       "      <td>3742786.5</td>\n",
       "      <td>16.2</td>\n",
       "      <td>16392</td>\n",
       "      <td>201045.3</td>\n",
       "      <td>6961877.1</td>\n",
       "      <td>7162922.4</td>\n",
       "      <td>4361783.4</td>\n",
       "      <td>11524705.8</td>\n",
       "      <td>15371</td>\n",
       "      <td>33905</td>\n",
       "      <td>12534</td>\n",
       "      <td>9601891</td>\n",
       "    </tr>\n",
       "    <tr>\n",
       "      <th>Colorado</th>\n",
       "      <td>738899.1</td>\n",
       "      <td>1224375.2</td>\n",
       "      <td>9.1</td>\n",
       "      <td>6703</td>\n",
       "      <td>72273.8</td>\n",
       "      <td>2487190.8</td>\n",
       "      <td>2559464.6</td>\n",
       "      <td>1586650.0</td>\n",
       "      <td>4146114.6</td>\n",
       "      <td>4753</td>\n",
       "      <td>11620</td>\n",
       "      <td>4411</td>\n",
       "      <td>3357327</td>\n",
       "    </tr>\n",
       "    <tr>\n",
       "      <th>Florida</th>\n",
       "      <td>863526.1</td>\n",
       "      <td>1439664.0</td>\n",
       "      <td>9.7</td>\n",
       "      <td>6117</td>\n",
       "      <td>69705.2</td>\n",
       "      <td>2371060.5</td>\n",
       "      <td>2440765.8</td>\n",
       "      <td>1514790.5</td>\n",
       "      <td>3955556.3</td>\n",
       "      <td>6133</td>\n",
       "      <td>11924</td>\n",
       "      <td>4837</td>\n",
       "      <td>3714505</td>\n",
       "    </tr>\n",
       "    <tr>\n",
       "      <th>Tennessee</th>\n",
       "      <td>772408.7</td>\n",
       "      <td>1278391.0</td>\n",
       "      <td>9.4</td>\n",
       "      <td>3605</td>\n",
       "      <td>64139.4</td>\n",
       "      <td>2267557.5</td>\n",
       "      <td>2331696.9</td>\n",
       "      <td>1331572.7</td>\n",
       "      <td>3663269.6</td>\n",
       "      <td>3682</td>\n",
       "      <td>8712</td>\n",
       "      <td>3141</td>\n",
       "      <td>2431787</td>\n",
       "    </tr>\n",
       "    <tr>\n",
       "      <th>Utah</th>\n",
       "      <td>452727.0</td>\n",
       "      <td>794429.7</td>\n",
       "      <td>8.9</td>\n",
       "      <td>3393</td>\n",
       "      <td>53876.9</td>\n",
       "      <td>1776026.2</td>\n",
       "      <td>1829903.1</td>\n",
       "      <td>1235521.4</td>\n",
       "      <td>3065424.5</td>\n",
       "      <td>2909</td>\n",
       "      <td>6680</td>\n",
       "      <td>2425</td>\n",
       "      <td>1834228</td>\n",
       "    </tr>\n",
       "    <tr>\n",
       "      <th>Missouri</th>\n",
       "      <td>624807.8</td>\n",
       "      <td>1045023.0</td>\n",
       "      <td>7.1</td>\n",
       "      <td>4006</td>\n",
       "      <td>54556.2</td>\n",
       "      <td>1885836.9</td>\n",
       "      <td>1940393.1</td>\n",
       "      <td>1172302.1</td>\n",
       "      <td>3112695.1</td>\n",
       "      <td>4796</td>\n",
       "      <td>9042</td>\n",
       "      <td>3394</td>\n",
       "      <td>2576795</td>\n",
       "    </tr>\n",
       "    <tr>\n",
       "      <th>New Hampshire</th>\n",
       "      <td>601425.7</td>\n",
       "      <td>975039.9</td>\n",
       "      <td>3.5</td>\n",
       "      <td>4550</td>\n",
       "      <td>54712.7</td>\n",
       "      <td>1950176.4</td>\n",
       "      <td>2004889.1</td>\n",
       "      <td>1147138.0</td>\n",
       "      <td>3152027.1</td>\n",
       "      <td>4234</td>\n",
       "      <td>8386</td>\n",
       "      <td>3317</td>\n",
       "      <td>2536391</td>\n",
       "    </tr>\n",
       "    <tr>\n",
       "      <th>Michigan</th>\n",
       "      <td>600404.1</td>\n",
       "      <td>1007175.3</td>\n",
       "      <td>9.2</td>\n",
       "      <td>4462</td>\n",
       "      <td>44032.8</td>\n",
       "      <td>1506294.2</td>\n",
       "      <td>1550327.1</td>\n",
       "      <td>956644.0</td>\n",
       "      <td>2506971.1</td>\n",
       "      <td>4833</td>\n",
       "      <td>9478</td>\n",
       "      <td>3664</td>\n",
       "      <td>2787486</td>\n",
       "    </tr>\n",
       "  </tbody>\n",
       "</table>\n",
       "</div>"
      ],
      "text/plain": [
       "                   UnitCost  UnitPrice  UnitPriceDiscount  OrderQty  \\\n",
       "CustomerProvince                                                      \n",
       "California        3399268.3  5595190.8               40.0     24302   \n",
       "Washington        2315631.8  3873919.2               26.4     16388   \n",
       "Texas             2250543.3  3742786.5               16.2     16392   \n",
       "Colorado           738899.1  1224375.2                9.1      6703   \n",
       "Florida            863526.1  1439664.0                9.7      6117   \n",
       "Tennessee          772408.7  1278391.0                9.4      3605   \n",
       "Utah               452727.0   794429.7                8.9      3393   \n",
       "Missouri           624807.8  1045023.0                7.1      4006   \n",
       "New Hampshire      601425.7   975039.9                3.5      4550   \n",
       "Michigan           600404.1  1007175.3                9.2      4462   \n",
       "\n",
       "                  UnitFreightCost   OrderCost  OrderTotalCost  OrderProfit  \\\n",
       "CustomerProvince                                                             \n",
       "California               299362.7  10508788.4      10808151.1    6285796.8   \n",
       "Washington               211077.0   7218733.4       7429810.5    4542731.7   \n",
       "Texas                    201045.3   6961877.1       7162922.4    4361783.4   \n",
       "Colorado                  72273.8   2487190.8       2559464.6    1586650.0   \n",
       "Florida                   69705.2   2371060.5       2440765.8    1514790.5   \n",
       "Tennessee                 64139.4   2267557.5       2331696.9    1331572.7   \n",
       "Utah                      53876.9   1776026.2       1829903.1    1235521.4   \n",
       "Missouri                  54556.2   1885836.9       1940393.1    1172302.1   \n",
       "New Hampshire             54712.7   1950176.4       2004889.1    1147138.0   \n",
       "Michigan                  44032.8   1506294.2       1550327.1     956644.0   \n",
       "\n",
       "                   UnitSales  OrderWeekday  OrderMonth  OrderQuarter  \\\n",
       "CustomerProvince                                                       \n",
       "California        17093947.9         21473       49449         18201   \n",
       "Washington        11972542.1         13964       31698         11976   \n",
       "Texas             11524705.8         15371       33905         12534   \n",
       "Colorado           4146114.6          4753       11620          4411   \n",
       "Florida            3955556.3          6133       11924          4837   \n",
       "Tennessee          3663269.6          3682        8712          3141   \n",
       "Utah               3065424.5          2909        6680          2425   \n",
       "Missouri           3112695.1          4796        9042          3394   \n",
       "New Hampshire      3152027.1          4234        8386          3317   \n",
       "Michigan           2506971.1          4833        9478          3664   \n",
       "\n",
       "                  OrderYear  \n",
       "CustomerProvince             \n",
       "California         13886308  \n",
       "Washington          9179054  \n",
       "Texas               9601891  \n",
       "Colorado            3357327  \n",
       "Florida             3714505  \n",
       "Tennessee           2431787  \n",
       "Utah                1834228  \n",
       "Missouri            2576795  \n",
       "New Hampshire       2536391  \n",
       "Michigan            2787486  "
      ]
     },
     "execution_count": 120,
     "metadata": {},
     "output_type": "execute_result"
    }
   ],
   "source": [
    "df_province = df.groupby('CustomerProvince').sum().round(1)\n",
    "df_province.sort_values('OrderProfit', ascending=False).head(10)"
   ]
  },
  {
   "cell_type": "code",
   "execution_count": 121,
   "metadata": {},
   "outputs": [
    {
     "data": {
      "image/png": "[encoded data removed]",
      "text/plain": [
       "<Figure size 720x432 with 1 Axes>"
      ]
     },
     "metadata": {},
     "output_type": "display_data"
    }
   ],
   "source": [
    "df_province['OrderProfit'].sort_values(ascending=False)[:10].plot(kind='bar', figsize=(10, 6), color='tab:purple');\n",
    "plt.title('Top 10 most profitable customer provinces', fontsize=20);\n",
    "plt.ylabel('Profit, Mln $', fontsize=18);\n",
    "plt.xlabel('Provinces', fontsize=18);"
   ]
  },
  {
   "cell_type": "markdown",
   "metadata": {},
   "source": [
    "California is by far the most profitable province, following by Washington & Texas."
   ]
  },
  {
   "cell_type": "markdown",
   "metadata": {},
   "source": [
    "##### What are 10 least profitable customer provinces?"
   ]
  },
  {
   "cell_type": "code",
   "execution_count": 122,
   "metadata": {},
   "outputs": [
    {
     "data": {
      "image/png": "[encoded data removed]",
      "text/plain": [
       "<Figure size 720x432 with 1 Axes>"
      ]
     },
     "metadata": {},
     "output_type": "display_data"
    }
   ],
   "source": [
    "df_province['OrderProfit'].sort_values(ascending=True)[:10].plot(kind='bar', figsize=(10, 6), color='tab:purple');\n",
    "plt.title('10 least profitable customer provinces', fontsize=20);\n",
    "plt.ylabel('Profit / Loss, $', fontsize=18);\n",
    "plt.xlabel('Provinces', fontsize=18);"
   ]
  },
  {
   "cell_type": "markdown",
   "metadata": {},
   "source": [
    "There are no unprofitable customer provinces. There were not enough items sold in Germany to make conclusions."
   ]
  },
  {
   "cell_type": "markdown",
   "metadata": {},
   "source": [
    "##### What are the top 5 most efficient sales managers?"
   ]
  },
  {
   "cell_type": "code",
   "execution_count": 123,
   "metadata": {},
   "outputs": [
    {
     "data": {
      "text/html": [
       "<div>\n",
       "<style scoped>\n",
       "    .dataframe tbody tr th:only-of-type {\n",
       "        vertical-align: middle;\n",
       "    }\n",
       "\n",
       "    .dataframe tbody tr th {\n",
       "        vertical-align: top;\n",
       "    }\n",
       "\n",
       "    .dataframe thead th {\n",
       "        text-align: right;\n",
       "    }\n",
       "</style>\n",
       "<table border=\"1\" class=\"dataframe\">\n",
       "  <thead>\n",
       "    <tr style=\"text-align: right;\">\n",
       "      <th></th>\n",
       "      <th>UnitCost</th>\n",
       "      <th>UnitPrice</th>\n",
       "      <th>UnitPriceDiscount</th>\n",
       "      <th>OrderQty</th>\n",
       "      <th>UnitFreightCost</th>\n",
       "      <th>OrderCost</th>\n",
       "      <th>OrderTotalCost</th>\n",
       "      <th>OrderProfit</th>\n",
       "      <th>UnitSales</th>\n",
       "      <th>OrderWeekday</th>\n",
       "      <th>OrderMonth</th>\n",
       "      <th>OrderQuarter</th>\n",
       "      <th>OrderYear</th>\n",
       "    </tr>\n",
       "    <tr>\n",
       "      <th>SalesPerson</th>\n",
       "      <th></th>\n",
       "      <th></th>\n",
       "      <th></th>\n",
       "      <th></th>\n",
       "      <th></th>\n",
       "      <th></th>\n",
       "      <th></th>\n",
       "      <th></th>\n",
       "      <th></th>\n",
       "      <th></th>\n",
       "      <th></th>\n",
       "      <th></th>\n",
       "      <th></th>\n",
       "    </tr>\n",
       "  </thead>\n",
       "  <tbody>\n",
       "    <tr>\n",
       "      <th>Linda Mitchell</th>\n",
       "      <td>3306161.8</td>\n",
       "      <td>5549140.8</td>\n",
       "      <td>43.4</td>\n",
       "      <td>27229</td>\n",
       "      <td>316192.9</td>\n",
       "      <td>10825336.5</td>\n",
       "      <td>11141529.4</td>\n",
       "      <td>6911790.8</td>\n",
       "      <td>18053320.2</td>\n",
       "      <td>20631</td>\n",
       "      <td>50227</td>\n",
       "      <td>18709</td>\n",
       "      <td>14262017</td>\n",
       "    </tr>\n",
       "    <tr>\n",
       "      <th>Jillian Carson</th>\n",
       "      <td>3586425.7</td>\n",
       "      <td>5947155.3</td>\n",
       "      <td>28.2</td>\n",
       "      <td>27051</td>\n",
       "      <td>303947.8</td>\n",
       "      <td>10519157.3</td>\n",
       "      <td>10823105.1</td>\n",
       "      <td>6593398.3</td>\n",
       "      <td>17416503.4</td>\n",
       "      <td>25063</td>\n",
       "      <td>54472</td>\n",
       "      <td>20393</td>\n",
       "      <td>15702271</td>\n",
       "    </tr>\n",
       "    <tr>\n",
       "      <th>Michael Blythe</th>\n",
       "      <td>3380341.2</td>\n",
       "      <td>5598672.8</td>\n",
       "      <td>32.1</td>\n",
       "      <td>23058</td>\n",
       "      <td>281300.6</td>\n",
       "      <td>9778825.2</td>\n",
       "      <td>10060125.8</td>\n",
       "      <td>6049069.6</td>\n",
       "      <td>16109195.4</td>\n",
       "      <td>24106</td>\n",
       "      <td>50172</td>\n",
       "      <td>18732</td>\n",
       "      <td>14185315</td>\n",
       "    </tr>\n",
       "    <tr>\n",
       "      <th>Tsvi Reiter</th>\n",
       "      <td>2810874.4</td>\n",
       "      <td>4697090.4</td>\n",
       "      <td>28.0</td>\n",
       "      <td>16431</td>\n",
       "      <td>217871.4</td>\n",
       "      <td>7469639.6</td>\n",
       "      <td>7687511.0</td>\n",
       "      <td>4741895.0</td>\n",
       "      <td>12429406.1</td>\n",
       "      <td>16436</td>\n",
       "      <td>36930</td>\n",
       "      <td>14181</td>\n",
       "      <td>10869994</td>\n",
       "    </tr>\n",
       "    <tr>\n",
       "      <th>Shu Ito</th>\n",
       "      <td>2264264.2</td>\n",
       "      <td>3727759.5</td>\n",
       "      <td>29.4</td>\n",
       "      <td>15397</td>\n",
       "      <td>198228.9</td>\n",
       "      <td>6972600.9</td>\n",
       "      <td>7170829.8</td>\n",
       "      <td>4124583.4</td>\n",
       "      <td>11295413.3</td>\n",
       "      <td>15502</td>\n",
       "      <td>32033</td>\n",
       "      <td>12047</td>\n",
       "      <td>9120470</td>\n",
       "    </tr>\n",
       "  </tbody>\n",
       "</table>\n",
       "</div>"
      ],
      "text/plain": [
       "                 UnitCost  UnitPrice  UnitPriceDiscount  OrderQty  \\\n",
       "SalesPerson                                                         \n",
       "Linda Mitchell  3306161.8  5549140.8               43.4     27229   \n",
       "Jillian Carson  3586425.7  5947155.3               28.2     27051   \n",
       "Michael Blythe  3380341.2  5598672.8               32.1     23058   \n",
       "Tsvi Reiter     2810874.4  4697090.4               28.0     16431   \n",
       "Shu Ito         2264264.2  3727759.5               29.4     15397   \n",
       "\n",
       "                UnitFreightCost   OrderCost  OrderTotalCost  OrderProfit  \\\n",
       "SalesPerson                                                                \n",
       "Linda Mitchell         316192.9  10825336.5      11141529.4    6911790.8   \n",
       "Jillian Carson         303947.8  10519157.3      10823105.1    6593398.3   \n",
       "Michael Blythe         281300.6   9778825.2      10060125.8    6049069.6   \n",
       "Tsvi Reiter            217871.4   7469639.6       7687511.0    4741895.0   \n",
       "Shu Ito                198228.9   6972600.9       7170829.8    4124583.4   \n",
       "\n",
       "                 UnitSales  OrderWeekday  OrderMonth  OrderQuarter  OrderYear  \n",
       "SalesPerson                                                                    \n",
       "Linda Mitchell  18053320.2         20631       50227         18709   14262017  \n",
       "Jillian Carson  17416503.4         25063       54472         20393   15702271  \n",
       "Michael Blythe  16109195.4         24106       50172         18732   14185315  \n",
       "Tsvi Reiter     12429406.1         16436       36930         14181   10869994  \n",
       "Shu Ito         11295413.3         15502       32033         12047    9120470  "
      ]
     },
     "execution_count": 123,
     "metadata": {},
     "output_type": "execute_result"
    }
   ],
   "source": [
    "df_managers = df.groupby('SalesPerson').sum().round(1)\n",
    "df_managers.sort_values('OrderProfit', ascending=False).head()"
   ]
  },
  {
   "cell_type": "code",
   "execution_count": 125,
   "metadata": {},
   "outputs": [
    {
     "data": {
      "image/png": "[encoded data removed]",
      "text/plain": [
       "<Figure size 576x432 with 1 Axes>"
      ]
     },
     "metadata": {},
     "output_type": "display_data"
    }
   ],
   "source": [
    "df_managers['OrderProfit'].sort_values(ascending=False)[:5].plot(kind='bar', figsize=(8, 6), color='tab:purple');\n",
    "plt.title('Total Profit by Sales Manager', fontsize=20);\n",
    "plt.ylabel('Profit, Mln $', fontsize=18);\n",
    "plt.xlabel('Sales Managers Names', fontsize=18);"
   ]
  },
  {
   "cell_type": "markdown",
   "metadata": {},
   "source": [
    "Linda Mitchell, Jillian Carson, & Michael Blythe are the most productive sales managers in the company. Combined they earned almost 20 Mln USD for the company over three years."
   ]
  }
 ],
 "metadata": {
  "kernelspec": {
   "display_name": "Python 3",
   "language": "python",
   "name": "python3"
  },
  "language_info": {
   "codemirror_mode": {
    "name": "ipython",
    "version": 3
   },
   "file_extension": ".py",
   "mimetype": "text/x-python",
   "name": "python",
   "nbconvert_exporter": "python",
   "pygments_lexer": "ipython3",
   "version": "3.8.3"
  }
 },
 "nbformat": 4,
 "nbformat_minor": 4
}
